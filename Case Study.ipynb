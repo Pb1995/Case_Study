{
 "cells": [
  {
   "cell_type": "markdown",
   "metadata": {},
   "source": [
    "<center><h1> Case Study </h1> </center>"
   ]
  },
  {
   "cell_type": "code",
   "execution_count": 1,
   "metadata": {},
   "outputs": [],
   "source": [
    "# Manipulation\n",
    "import pandas as pd\n",
    "import numpy as np\n",
    "\n",
    "# Visualization\n",
    "import matplotlib.pyplot as plt\n",
    "import seaborn as sns"
   ]
  },
  {
   "cell_type": "markdown",
   "metadata": {},
   "source": [
    "## Part 1: Data Exploration and Evaluation"
   ]
  },
  {
   "cell_type": "markdown",
   "metadata": {},
   "source": [
    "### 1.1 Load and Explore"
   ]
  },
  {
   "cell_type": "code",
   "execution_count": 2,
   "metadata": {},
   "outputs": [],
   "source": [
    "df = pd.read_csv('loan.csv', usecols=['loan_amnt', \n",
    "                                'funded_amnt', \n",
    "                                'term', \n",
    "                                'int_rate', \n",
    "                                'grade', \n",
    "                                'annual_inc', \n",
    "                                'issue_d', \n",
    "                                'dti', \n",
    "                                'revol_bal', \n",
    "                                'total_pymnt', \n",
    "                                'loan_status'])"
   ]
  },
  {
   "cell_type": "code",
   "execution_count": 3,
   "metadata": {},
   "outputs": [
    {
     "data": {
      "text/plain": [
       "(887379, 11)"
      ]
     },
     "execution_count": 3,
     "metadata": {},
     "output_type": "execute_result"
    }
   ],
   "source": [
    "df.shape # get shape"
   ]
  },
  {
   "cell_type": "code",
   "execution_count": 4,
   "metadata": {},
   "outputs": [
    {
     "data": {
      "text/html": [
       "<div>\n",
       "<style scoped>\n",
       "    .dataframe tbody tr th:only-of-type {\n",
       "        vertical-align: middle;\n",
       "    }\n",
       "\n",
       "    .dataframe tbody tr th {\n",
       "        vertical-align: top;\n",
       "    }\n",
       "\n",
       "    .dataframe thead th {\n",
       "        text-align: right;\n",
       "    }\n",
       "</style>\n",
       "<table border=\"1\" class=\"dataframe\">\n",
       "  <thead>\n",
       "    <tr style=\"text-align: right;\">\n",
       "      <th></th>\n",
       "      <th>loan_amnt</th>\n",
       "      <th>funded_amnt</th>\n",
       "      <th>term</th>\n",
       "      <th>int_rate</th>\n",
       "      <th>grade</th>\n",
       "      <th>annual_inc</th>\n",
       "      <th>issue_d</th>\n",
       "      <th>loan_status</th>\n",
       "      <th>dti</th>\n",
       "      <th>revol_bal</th>\n",
       "      <th>total_pymnt</th>\n",
       "    </tr>\n",
       "  </thead>\n",
       "  <tbody>\n",
       "    <tr>\n",
       "      <th>0</th>\n",
       "      <td>5000.0</td>\n",
       "      <td>5000.0</td>\n",
       "      <td>36 months</td>\n",
       "      <td>10.65</td>\n",
       "      <td>B</td>\n",
       "      <td>24000.0</td>\n",
       "      <td>Dec-2011</td>\n",
       "      <td>Fully Paid</td>\n",
       "      <td>27.65</td>\n",
       "      <td>13648.0</td>\n",
       "      <td>5861.071414</td>\n",
       "    </tr>\n",
       "    <tr>\n",
       "      <th>1</th>\n",
       "      <td>2500.0</td>\n",
       "      <td>2500.0</td>\n",
       "      <td>60 months</td>\n",
       "      <td>15.27</td>\n",
       "      <td>C</td>\n",
       "      <td>30000.0</td>\n",
       "      <td>Dec-2011</td>\n",
       "      <td>Charged Off</td>\n",
       "      <td>1.00</td>\n",
       "      <td>1687.0</td>\n",
       "      <td>1008.710000</td>\n",
       "    </tr>\n",
       "    <tr>\n",
       "      <th>2</th>\n",
       "      <td>2400.0</td>\n",
       "      <td>2400.0</td>\n",
       "      <td>36 months</td>\n",
       "      <td>15.96</td>\n",
       "      <td>C</td>\n",
       "      <td>12252.0</td>\n",
       "      <td>Dec-2011</td>\n",
       "      <td>Fully Paid</td>\n",
       "      <td>8.72</td>\n",
       "      <td>2956.0</td>\n",
       "      <td>3003.653644</td>\n",
       "    </tr>\n",
       "    <tr>\n",
       "      <th>3</th>\n",
       "      <td>10000.0</td>\n",
       "      <td>10000.0</td>\n",
       "      <td>36 months</td>\n",
       "      <td>13.49</td>\n",
       "      <td>C</td>\n",
       "      <td>49200.0</td>\n",
       "      <td>Dec-2011</td>\n",
       "      <td>Fully Paid</td>\n",
       "      <td>20.00</td>\n",
       "      <td>5598.0</td>\n",
       "      <td>12226.302212</td>\n",
       "    </tr>\n",
       "    <tr>\n",
       "      <th>4</th>\n",
       "      <td>3000.0</td>\n",
       "      <td>3000.0</td>\n",
       "      <td>60 months</td>\n",
       "      <td>12.69</td>\n",
       "      <td>B</td>\n",
       "      <td>80000.0</td>\n",
       "      <td>Dec-2011</td>\n",
       "      <td>Current</td>\n",
       "      <td>17.94</td>\n",
       "      <td>27783.0</td>\n",
       "      <td>3242.170000</td>\n",
       "    </tr>\n",
       "    <tr>\n",
       "      <th>5</th>\n",
       "      <td>5000.0</td>\n",
       "      <td>5000.0</td>\n",
       "      <td>36 months</td>\n",
       "      <td>7.90</td>\n",
       "      <td>A</td>\n",
       "      <td>36000.0</td>\n",
       "      <td>Dec-2011</td>\n",
       "      <td>Fully Paid</td>\n",
       "      <td>11.20</td>\n",
       "      <td>7963.0</td>\n",
       "      <td>5631.377753</td>\n",
       "    </tr>\n",
       "    <tr>\n",
       "      <th>6</th>\n",
       "      <td>7000.0</td>\n",
       "      <td>7000.0</td>\n",
       "      <td>60 months</td>\n",
       "      <td>15.96</td>\n",
       "      <td>C</td>\n",
       "      <td>47004.0</td>\n",
       "      <td>Dec-2011</td>\n",
       "      <td>Current</td>\n",
       "      <td>23.51</td>\n",
       "      <td>17726.0</td>\n",
       "      <td>8136.840000</td>\n",
       "    </tr>\n",
       "    <tr>\n",
       "      <th>7</th>\n",
       "      <td>3000.0</td>\n",
       "      <td>3000.0</td>\n",
       "      <td>36 months</td>\n",
       "      <td>18.64</td>\n",
       "      <td>E</td>\n",
       "      <td>48000.0</td>\n",
       "      <td>Dec-2011</td>\n",
       "      <td>Fully Paid</td>\n",
       "      <td>5.35</td>\n",
       "      <td>8221.0</td>\n",
       "      <td>3938.144334</td>\n",
       "    </tr>\n",
       "    <tr>\n",
       "      <th>8</th>\n",
       "      <td>5600.0</td>\n",
       "      <td>5600.0</td>\n",
       "      <td>60 months</td>\n",
       "      <td>21.28</td>\n",
       "      <td>F</td>\n",
       "      <td>40000.0</td>\n",
       "      <td>Dec-2011</td>\n",
       "      <td>Charged Off</td>\n",
       "      <td>5.55</td>\n",
       "      <td>5210.0</td>\n",
       "      <td>646.020000</td>\n",
       "    </tr>\n",
       "    <tr>\n",
       "      <th>9</th>\n",
       "      <td>5375.0</td>\n",
       "      <td>5375.0</td>\n",
       "      <td>60 months</td>\n",
       "      <td>12.69</td>\n",
       "      <td>B</td>\n",
       "      <td>15000.0</td>\n",
       "      <td>Dec-2011</td>\n",
       "      <td>Charged Off</td>\n",
       "      <td>18.08</td>\n",
       "      <td>9279.0</td>\n",
       "      <td>1476.190000</td>\n",
       "    </tr>\n",
       "  </tbody>\n",
       "</table>\n",
       "</div>"
      ],
      "text/plain": [
       "   loan_amnt  funded_amnt        term  int_rate grade  annual_inc   issue_d  \\\n",
       "0     5000.0       5000.0   36 months     10.65     B     24000.0  Dec-2011   \n",
       "1     2500.0       2500.0   60 months     15.27     C     30000.0  Dec-2011   \n",
       "2     2400.0       2400.0   36 months     15.96     C     12252.0  Dec-2011   \n",
       "3    10000.0      10000.0   36 months     13.49     C     49200.0  Dec-2011   \n",
       "4     3000.0       3000.0   60 months     12.69     B     80000.0  Dec-2011   \n",
       "5     5000.0       5000.0   36 months      7.90     A     36000.0  Dec-2011   \n",
       "6     7000.0       7000.0   60 months     15.96     C     47004.0  Dec-2011   \n",
       "7     3000.0       3000.0   36 months     18.64     E     48000.0  Dec-2011   \n",
       "8     5600.0       5600.0   60 months     21.28     F     40000.0  Dec-2011   \n",
       "9     5375.0       5375.0   60 months     12.69     B     15000.0  Dec-2011   \n",
       "\n",
       "   loan_status    dti  revol_bal   total_pymnt  \n",
       "0   Fully Paid  27.65    13648.0   5861.071414  \n",
       "1  Charged Off   1.00     1687.0   1008.710000  \n",
       "2   Fully Paid   8.72     2956.0   3003.653644  \n",
       "3   Fully Paid  20.00     5598.0  12226.302212  \n",
       "4      Current  17.94    27783.0   3242.170000  \n",
       "5   Fully Paid  11.20     7963.0   5631.377753  \n",
       "6      Current  23.51    17726.0   8136.840000  \n",
       "7   Fully Paid   5.35     8221.0   3938.144334  \n",
       "8  Charged Off   5.55     5210.0    646.020000  \n",
       "9  Charged Off  18.08     9279.0   1476.190000  "
      ]
     },
     "execution_count": 4,
     "metadata": {},
     "output_type": "execute_result"
    }
   ],
   "source": [
    "df.head(10) # get first 10 rows "
   ]
  },
  {
   "cell_type": "code",
   "execution_count": 5,
   "metadata": {},
   "outputs": [
    {
     "data": {
      "text/html": [
       "<div>\n",
       "<style scoped>\n",
       "    .dataframe tbody tr th:only-of-type {\n",
       "        vertical-align: middle;\n",
       "    }\n",
       "\n",
       "    .dataframe tbody tr th {\n",
       "        vertical-align: top;\n",
       "    }\n",
       "\n",
       "    .dataframe thead th {\n",
       "        text-align: right;\n",
       "    }\n",
       "</style>\n",
       "<table border=\"1\" class=\"dataframe\">\n",
       "  <thead>\n",
       "    <tr style=\"text-align: right;\">\n",
       "      <th></th>\n",
       "      <th>loan_amnt</th>\n",
       "      <th>funded_amnt</th>\n",
       "      <th>term</th>\n",
       "      <th>int_rate</th>\n",
       "      <th>grade</th>\n",
       "      <th>annual_inc</th>\n",
       "      <th>issue_d</th>\n",
       "      <th>loan_status</th>\n",
       "      <th>dti</th>\n",
       "      <th>revol_bal</th>\n",
       "      <th>total_pymnt</th>\n",
       "    </tr>\n",
       "  </thead>\n",
       "  <tbody>\n",
       "    <tr>\n",
       "      <th>519837</th>\n",
       "      <td>12000.0</td>\n",
       "      <td>12000.0</td>\n",
       "      <td>36 months</td>\n",
       "      <td>9.17</td>\n",
       "      <td>B</td>\n",
       "      <td>40000.0</td>\n",
       "      <td>Nov-2015</td>\n",
       "      <td>Current</td>\n",
       "      <td>14.73</td>\n",
       "      <td>16913.0</td>\n",
       "      <td>370.32</td>\n",
       "    </tr>\n",
       "    <tr>\n",
       "      <th>380439</th>\n",
       "      <td>21000.0</td>\n",
       "      <td>21000.0</td>\n",
       "      <td>36 months</td>\n",
       "      <td>8.39</td>\n",
       "      <td>A</td>\n",
       "      <td>80000.0</td>\n",
       "      <td>May-2014</td>\n",
       "      <td>Current</td>\n",
       "      <td>20.61</td>\n",
       "      <td>23126.0</td>\n",
       "      <td>12575.15</td>\n",
       "    </tr>\n",
       "    <tr>\n",
       "      <th>883813</th>\n",
       "      <td>15000.0</td>\n",
       "      <td>15000.0</td>\n",
       "      <td>36 months</td>\n",
       "      <td>15.59</td>\n",
       "      <td>D</td>\n",
       "      <td>55000.0</td>\n",
       "      <td>Jan-2015</td>\n",
       "      <td>Current</td>\n",
       "      <td>26.21</td>\n",
       "      <td>8013.0</td>\n",
       "      <td>6265.98</td>\n",
       "    </tr>\n",
       "    <tr>\n",
       "      <th>541289</th>\n",
       "      <td>18325.0</td>\n",
       "      <td>18325.0</td>\n",
       "      <td>36 months</td>\n",
       "      <td>13.67</td>\n",
       "      <td>C</td>\n",
       "      <td>53173.2</td>\n",
       "      <td>Nov-2015</td>\n",
       "      <td>Current</td>\n",
       "      <td>25.10</td>\n",
       "      <td>19616.0</td>\n",
       "      <td>1225.88</td>\n",
       "    </tr>\n",
       "    <tr>\n",
       "      <th>252175</th>\n",
       "      <td>7700.0</td>\n",
       "      <td>7700.0</td>\n",
       "      <td>36 months</td>\n",
       "      <td>13.66</td>\n",
       "      <td>C</td>\n",
       "      <td>41600.0</td>\n",
       "      <td>Nov-2014</td>\n",
       "      <td>Current</td>\n",
       "      <td>13.59</td>\n",
       "      <td>1776.0</td>\n",
       "      <td>3660.76</td>\n",
       "    </tr>\n",
       "    <tr>\n",
       "      <th>262792</th>\n",
       "      <td>30000.0</td>\n",
       "      <td>30000.0</td>\n",
       "      <td>60 months</td>\n",
       "      <td>12.99</td>\n",
       "      <td>C</td>\n",
       "      <td>71300.0</td>\n",
       "      <td>Nov-2014</td>\n",
       "      <td>Current</td>\n",
       "      <td>17.00</td>\n",
       "      <td>29941.0</td>\n",
       "      <td>9532.51</td>\n",
       "    </tr>\n",
       "    <tr>\n",
       "      <th>808013</th>\n",
       "      <td>28000.0</td>\n",
       "      <td>28000.0</td>\n",
       "      <td>36 months</td>\n",
       "      <td>7.89</td>\n",
       "      <td>A</td>\n",
       "      <td>144000.0</td>\n",
       "      <td>Mar-2015</td>\n",
       "      <td>Current</td>\n",
       "      <td>22.59</td>\n",
       "      <td>66657.0</td>\n",
       "      <td>8735.45</td>\n",
       "    </tr>\n",
       "    <tr>\n",
       "      <th>490597</th>\n",
       "      <td>10000.0</td>\n",
       "      <td>10000.0</td>\n",
       "      <td>60 months</td>\n",
       "      <td>18.49</td>\n",
       "      <td>E</td>\n",
       "      <td>68000.0</td>\n",
       "      <td>Dec-2015</td>\n",
       "      <td>Current</td>\n",
       "      <td>23.14</td>\n",
       "      <td>8681.0</td>\n",
       "      <td>236.07</td>\n",
       "    </tr>\n",
       "    <tr>\n",
       "      <th>288999</th>\n",
       "      <td>31075.0</td>\n",
       "      <td>31075.0</td>\n",
       "      <td>60 months</td>\n",
       "      <td>24.50</td>\n",
       "      <td>F</td>\n",
       "      <td>82000.0</td>\n",
       "      <td>Oct-2014</td>\n",
       "      <td>Current</td>\n",
       "      <td>23.62</td>\n",
       "      <td>41724.0</td>\n",
       "      <td>13502.85</td>\n",
       "    </tr>\n",
       "    <tr>\n",
       "      <th>727183</th>\n",
       "      <td>20000.0</td>\n",
       "      <td>20000.0</td>\n",
       "      <td>60 months</td>\n",
       "      <td>13.99</td>\n",
       "      <td>C</td>\n",
       "      <td>70000.0</td>\n",
       "      <td>Jun-2015</td>\n",
       "      <td>In Grace Period</td>\n",
       "      <td>13.83</td>\n",
       "      <td>22093.0</td>\n",
       "      <td>2776.08</td>\n",
       "    </tr>\n",
       "  </tbody>\n",
       "</table>\n",
       "</div>"
      ],
      "text/plain": [
       "        loan_amnt  funded_amnt        term  int_rate grade  annual_inc  \\\n",
       "519837    12000.0      12000.0   36 months      9.17     B     40000.0   \n",
       "380439    21000.0      21000.0   36 months      8.39     A     80000.0   \n",
       "883813    15000.0      15000.0   36 months     15.59     D     55000.0   \n",
       "541289    18325.0      18325.0   36 months     13.67     C     53173.2   \n",
       "252175     7700.0       7700.0   36 months     13.66     C     41600.0   \n",
       "262792    30000.0      30000.0   60 months     12.99     C     71300.0   \n",
       "808013    28000.0      28000.0   36 months      7.89     A    144000.0   \n",
       "490597    10000.0      10000.0   60 months     18.49     E     68000.0   \n",
       "288999    31075.0      31075.0   60 months     24.50     F     82000.0   \n",
       "727183    20000.0      20000.0   60 months     13.99     C     70000.0   \n",
       "\n",
       "         issue_d      loan_status    dti  revol_bal  total_pymnt  \n",
       "519837  Nov-2015          Current  14.73    16913.0       370.32  \n",
       "380439  May-2014          Current  20.61    23126.0     12575.15  \n",
       "883813  Jan-2015          Current  26.21     8013.0      6265.98  \n",
       "541289  Nov-2015          Current  25.10    19616.0      1225.88  \n",
       "252175  Nov-2014          Current  13.59     1776.0      3660.76  \n",
       "262792  Nov-2014          Current  17.00    29941.0      9532.51  \n",
       "808013  Mar-2015          Current  22.59    66657.0      8735.45  \n",
       "490597  Dec-2015          Current  23.14     8681.0       236.07  \n",
       "288999  Oct-2014          Current  23.62    41724.0     13502.85  \n",
       "727183  Jun-2015  In Grace Period  13.83    22093.0      2776.08  "
      ]
     },
     "execution_count": 5,
     "metadata": {},
     "output_type": "execute_result"
    }
   ],
   "source": [
    "df.sample(10) # get 10 random rows"
   ]
  },
  {
   "cell_type": "code",
   "execution_count": 6,
   "metadata": {},
   "outputs": [
    {
     "name": "stdout",
     "output_type": "stream",
     "text": [
      "<class 'pandas.core.frame.DataFrame'>\n",
      "RangeIndex: 887379 entries, 0 to 887378\n",
      "Data columns (total 11 columns):\n",
      "loan_amnt      887379 non-null float64\n",
      "funded_amnt    887379 non-null float64\n",
      "term           887379 non-null object\n",
      "int_rate       887379 non-null float64\n",
      "grade          887379 non-null object\n",
      "annual_inc     887375 non-null float64\n",
      "issue_d        887379 non-null object\n",
      "loan_status    887379 non-null object\n",
      "dti            887379 non-null float64\n",
      "revol_bal      887379 non-null float64\n",
      "total_pymnt    887379 non-null float64\n",
      "dtypes: float64(7), object(4)\n",
      "memory usage: 74.5+ MB\n"
     ]
    }
   ],
   "source": [
    "df.info()"
   ]
  },
  {
   "cell_type": "markdown",
   "metadata": {},
   "source": [
    "* **There is a date variable: I will convert it to the correct type**"
   ]
  },
  {
   "cell_type": "code",
   "execution_count": 7,
   "metadata": {},
   "outputs": [],
   "source": [
    "df['issue_d'] = pd.to_datetime(df['issue_d'])"
   ]
  },
  {
   "cell_type": "code",
   "execution_count": 8,
   "metadata": {},
   "outputs": [
    {
     "name": "stdout",
     "output_type": "stream",
     "text": [
      "<class 'pandas.core.frame.DataFrame'>\n",
      "RangeIndex: 887379 entries, 0 to 887378\n",
      "Data columns (total 11 columns):\n",
      "loan_amnt      887379 non-null float64\n",
      "funded_amnt    887379 non-null float64\n",
      "term           887379 non-null object\n",
      "int_rate       887379 non-null float64\n",
      "grade          887379 non-null object\n",
      "annual_inc     887375 non-null float64\n",
      "issue_d        887379 non-null datetime64[ns]\n",
      "loan_status    887379 non-null object\n",
      "dti            887379 non-null float64\n",
      "revol_bal      887379 non-null float64\n",
      "total_pymnt    887379 non-null float64\n",
      "dtypes: datetime64[ns](1), float64(7), object(3)\n",
      "memory usage: 74.5+ MB\n"
     ]
    }
   ],
   "source": [
    "# Check\n",
    "df.info()"
   ]
  },
  {
   "cell_type": "markdown",
   "metadata": {},
   "source": [
    "### 1.2 Look at different levels of aggregations"
   ]
  },
  {
   "cell_type": "code",
   "execution_count": 9,
   "metadata": {},
   "outputs": [],
   "source": [
    "means = df.groupby(['term', 'grade', 'loan_status', df['issue_d'].dt.year]).mean()"
   ]
  },
  {
   "cell_type": "code",
   "execution_count": 10,
   "metadata": {},
   "outputs": [
    {
     "data": {
      "text/html": [
       "<div>\n",
       "<style scoped>\n",
       "    .dataframe tbody tr th:only-of-type {\n",
       "        vertical-align: middle;\n",
       "    }\n",
       "\n",
       "    .dataframe tbody tr th {\n",
       "        vertical-align: top;\n",
       "    }\n",
       "\n",
       "    .dataframe thead th {\n",
       "        text-align: right;\n",
       "    }\n",
       "</style>\n",
       "<table border=\"1\" class=\"dataframe\">\n",
       "  <thead>\n",
       "    <tr style=\"text-align: right;\">\n",
       "      <th></th>\n",
       "      <th></th>\n",
       "      <th></th>\n",
       "      <th></th>\n",
       "      <th>loan_amnt</th>\n",
       "      <th>funded_amnt</th>\n",
       "      <th>int_rate</th>\n",
       "      <th>annual_inc</th>\n",
       "      <th>dti</th>\n",
       "      <th>revol_bal</th>\n",
       "      <th>total_pymnt</th>\n",
       "    </tr>\n",
       "    <tr>\n",
       "      <th>term</th>\n",
       "      <th>grade</th>\n",
       "      <th>loan_status</th>\n",
       "      <th>issue_d</th>\n",
       "      <th></th>\n",
       "      <th></th>\n",
       "      <th></th>\n",
       "      <th></th>\n",
       "      <th></th>\n",
       "      <th></th>\n",
       "      <th></th>\n",
       "    </tr>\n",
       "  </thead>\n",
       "  <tbody>\n",
       "    <tr>\n",
       "      <th rowspan=\"5\" valign=\"top\">36 months</th>\n",
       "      <th rowspan=\"5\" valign=\"top\">A</th>\n",
       "      <th rowspan=\"5\" valign=\"top\">Charged Off</th>\n",
       "      <th>2007</th>\n",
       "      <td>2000.000000</td>\n",
       "      <td>2000.000000</td>\n",
       "      <td>7.750000</td>\n",
       "      <td>24000.000000</td>\n",
       "      <td>2.400000</td>\n",
       "      <td>949.000000</td>\n",
       "      <td>1111.460000</td>\n",
       "    </tr>\n",
       "    <tr>\n",
       "      <th>2008</th>\n",
       "      <td>8211.764706</td>\n",
       "      <td>7357.352941</td>\n",
       "      <td>8.345294</td>\n",
       "      <td>53167.764706</td>\n",
       "      <td>8.607059</td>\n",
       "      <td>19068.941176</td>\n",
       "      <td>4885.511967</td>\n",
       "    </tr>\n",
       "    <tr>\n",
       "      <th>2009</th>\n",
       "      <td>7457.594937</td>\n",
       "      <td>7457.594937</td>\n",
       "      <td>8.916203</td>\n",
       "      <td>55953.139241</td>\n",
       "      <td>11.269747</td>\n",
       "      <td>12467.341772</td>\n",
       "      <td>4238.002302</td>\n",
       "    </tr>\n",
       "    <tr>\n",
       "      <th>2010</th>\n",
       "      <td>8045.045045</td>\n",
       "      <td>7545.945946</td>\n",
       "      <td>7.205856</td>\n",
       "      <td>54519.585586</td>\n",
       "      <td>13.368198</td>\n",
       "      <td>12107.477477</td>\n",
       "      <td>4803.274414</td>\n",
       "    </tr>\n",
       "    <tr>\n",
       "      <th>2011</th>\n",
       "      <td>7599.719888</td>\n",
       "      <td>7584.453782</td>\n",
       "      <td>7.382689</td>\n",
       "      <td>51672.414482</td>\n",
       "      <td>14.209776</td>\n",
       "      <td>11488.708683</td>\n",
       "      <td>4121.204678</td>\n",
       "    </tr>\n",
       "  </tbody>\n",
       "</table>\n",
       "</div>"
      ],
      "text/plain": [
       "                                        loan_amnt  funded_amnt  int_rate  \\\n",
       "term       grade loan_status issue_d                                       \n",
       " 36 months A     Charged Off 2007     2000.000000  2000.000000  7.750000   \n",
       "                             2008     8211.764706  7357.352941  8.345294   \n",
       "                             2009     7457.594937  7457.594937  8.916203   \n",
       "                             2010     8045.045045  7545.945946  7.205856   \n",
       "                             2011     7599.719888  7584.453782  7.382689   \n",
       "\n",
       "                                        annual_inc        dti     revol_bal  \\\n",
       "term       grade loan_status issue_d                                          \n",
       " 36 months A     Charged Off 2007     24000.000000   2.400000    949.000000   \n",
       "                             2008     53167.764706   8.607059  19068.941176   \n",
       "                             2009     55953.139241  11.269747  12467.341772   \n",
       "                             2010     54519.585586  13.368198  12107.477477   \n",
       "                             2011     51672.414482  14.209776  11488.708683   \n",
       "\n",
       "                                      total_pymnt  \n",
       "term       grade loan_status issue_d               \n",
       " 36 months A     Charged Off 2007     1111.460000  \n",
       "                             2008     4885.511967  \n",
       "                             2009     4238.002302  \n",
       "                             2010     4803.274414  \n",
       "                             2011     4121.204678  "
      ]
     },
     "execution_count": 10,
     "metadata": {},
     "output_type": "execute_result"
    }
   ],
   "source": [
    "means.head()"
   ]
  },
  {
   "cell_type": "code",
   "execution_count": 11,
   "metadata": {},
   "outputs": [
    {
     "data": {
      "text/html": [
       "<div>\n",
       "<style scoped>\n",
       "    .dataframe tbody tr th:only-of-type {\n",
       "        vertical-align: middle;\n",
       "    }\n",
       "\n",
       "    .dataframe tbody tr th {\n",
       "        vertical-align: top;\n",
       "    }\n",
       "\n",
       "    .dataframe thead th {\n",
       "        text-align: right;\n",
       "    }\n",
       "</style>\n",
       "<table border=\"1\" class=\"dataframe\">\n",
       "  <thead>\n",
       "    <tr style=\"text-align: right;\">\n",
       "      <th></th>\n",
       "      <th></th>\n",
       "      <th></th>\n",
       "      <th></th>\n",
       "      <th>loan_amnt</th>\n",
       "      <th>funded_amnt</th>\n",
       "      <th>int_rate</th>\n",
       "      <th>annual_inc</th>\n",
       "      <th>dti</th>\n",
       "      <th>revol_bal</th>\n",
       "      <th>total_pymnt</th>\n",
       "    </tr>\n",
       "    <tr>\n",
       "      <th>term</th>\n",
       "      <th>grade</th>\n",
       "      <th>loan_status</th>\n",
       "      <th>issue_d</th>\n",
       "      <th></th>\n",
       "      <th></th>\n",
       "      <th></th>\n",
       "      <th></th>\n",
       "      <th></th>\n",
       "      <th></th>\n",
       "      <th></th>\n",
       "    </tr>\n",
       "  </thead>\n",
       "  <tbody>\n",
       "    <tr>\n",
       "      <th rowspan=\"5\" valign=\"top\">60 months</th>\n",
       "      <th rowspan=\"5\" valign=\"top\">G</th>\n",
       "      <th rowspan=\"5\" valign=\"top\">Late (31-120 days)</th>\n",
       "      <th>2011</th>\n",
       "      <td>14600.000000</td>\n",
       "      <td>14600.000000</td>\n",
       "      <td>21.590000</td>\n",
       "      <td>185000.000000</td>\n",
       "      <td>21.550000</td>\n",
       "      <td>28580.000000</td>\n",
       "      <td>21666.900000</td>\n",
       "    </tr>\n",
       "    <tr>\n",
       "      <th>2012</th>\n",
       "      <td>23000.000000</td>\n",
       "      <td>23000.000000</td>\n",
       "      <td>24.795000</td>\n",
       "      <td>67500.000000</td>\n",
       "      <td>22.410000</td>\n",
       "      <td>14820.500000</td>\n",
       "      <td>23959.725000</td>\n",
       "    </tr>\n",
       "    <tr>\n",
       "      <th>2013</th>\n",
       "      <td>24542.592593</td>\n",
       "      <td>24542.592593</td>\n",
       "      <td>25.557407</td>\n",
       "      <td>97346.222222</td>\n",
       "      <td>16.038889</td>\n",
       "      <td>15289.259259</td>\n",
       "      <td>18621.598889</td>\n",
       "    </tr>\n",
       "    <tr>\n",
       "      <th>2014</th>\n",
       "      <td>21221.785714</td>\n",
       "      <td>21221.785714</td>\n",
       "      <td>25.882000</td>\n",
       "      <td>77361.820000</td>\n",
       "      <td>18.947429</td>\n",
       "      <td>14088.385714</td>\n",
       "      <td>8828.671286</td>\n",
       "    </tr>\n",
       "    <tr>\n",
       "      <th>2015</th>\n",
       "      <td>21901.495726</td>\n",
       "      <td>21901.495726</td>\n",
       "      <td>26.670940</td>\n",
       "      <td>74822.001368</td>\n",
       "      <td>19.718974</td>\n",
       "      <td>13818.188034</td>\n",
       "      <td>3691.431795</td>\n",
       "    </tr>\n",
       "  </tbody>\n",
       "</table>\n",
       "</div>"
      ],
      "text/plain": [
       "                                                loan_amnt   funded_amnt  \\\n",
       "term       grade loan_status        issue_d                               \n",
       " 60 months G     Late (31-120 days) 2011     14600.000000  14600.000000   \n",
       "                                    2012     23000.000000  23000.000000   \n",
       "                                    2013     24542.592593  24542.592593   \n",
       "                                    2014     21221.785714  21221.785714   \n",
       "                                    2015     21901.495726  21901.495726   \n",
       "\n",
       "                                              int_rate     annual_inc  \\\n",
       "term       grade loan_status        issue_d                             \n",
       " 60 months G     Late (31-120 days) 2011     21.590000  185000.000000   \n",
       "                                    2012     24.795000   67500.000000   \n",
       "                                    2013     25.557407   97346.222222   \n",
       "                                    2014     25.882000   77361.820000   \n",
       "                                    2015     26.670940   74822.001368   \n",
       "\n",
       "                                                   dti     revol_bal  \\\n",
       "term       grade loan_status        issue_d                            \n",
       " 60 months G     Late (31-120 days) 2011     21.550000  28580.000000   \n",
       "                                    2012     22.410000  14820.500000   \n",
       "                                    2013     16.038889  15289.259259   \n",
       "                                    2014     18.947429  14088.385714   \n",
       "                                    2015     19.718974  13818.188034   \n",
       "\n",
       "                                              total_pymnt  \n",
       "term       grade loan_status        issue_d                \n",
       " 60 months G     Late (31-120 days) 2011     21666.900000  \n",
       "                                    2012     23959.725000  \n",
       "                                    2013     18621.598889  \n",
       "                                    2014      8828.671286  \n",
       "                                    2015      3691.431795  "
      ]
     },
     "execution_count": 11,
     "metadata": {},
     "output_type": "execute_result"
    }
   ],
   "source": [
    "means.tail()"
   ]
  },
  {
   "cell_type": "markdown",
   "metadata": {},
   "source": [
    "### 1.3 Check for Missing values and or repeated rows "
   ]
  },
  {
   "cell_type": "code",
   "execution_count": 12,
   "metadata": {},
   "outputs": [
    {
     "data": {
      "text/html": [
       "<div>\n",
       "<style scoped>\n",
       "    .dataframe tbody tr th:only-of-type {\n",
       "        vertical-align: middle;\n",
       "    }\n",
       "\n",
       "    .dataframe tbody tr th {\n",
       "        vertical-align: top;\n",
       "    }\n",
       "\n",
       "    .dataframe thead th {\n",
       "        text-align: right;\n",
       "    }\n",
       "</style>\n",
       "<table border=\"1\" class=\"dataframe\">\n",
       "  <thead>\n",
       "    <tr style=\"text-align: right;\">\n",
       "      <th></th>\n",
       "      <th>loan_amnt</th>\n",
       "      <th>funded_amnt</th>\n",
       "      <th>term</th>\n",
       "      <th>int_rate</th>\n",
       "      <th>grade</th>\n",
       "      <th>annual_inc</th>\n",
       "      <th>issue_d</th>\n",
       "      <th>loan_status</th>\n",
       "      <th>dti</th>\n",
       "      <th>revol_bal</th>\n",
       "      <th>total_pymnt</th>\n",
       "    </tr>\n",
       "  </thead>\n",
       "  <tbody>\n",
       "  </tbody>\n",
       "</table>\n",
       "</div>"
      ],
      "text/plain": [
       "Empty DataFrame\n",
       "Columns: [loan_amnt, funded_amnt, term, int_rate, grade, annual_inc, issue_d, loan_status, dti, revol_bal, total_pymnt]\n",
       "Index: []"
      ]
     },
     "execution_count": 12,
     "metadata": {},
     "output_type": "execute_result"
    }
   ],
   "source": [
    "df[df.duplicated()==True]"
   ]
  },
  {
   "cell_type": "markdown",
   "metadata": {},
   "source": [
    "**Good news: There are no duplicated rows!**"
   ]
  },
  {
   "cell_type": "code",
   "execution_count": 13,
   "metadata": {},
   "outputs": [
    {
     "data": {
      "text/plain": [
       "loan_amnt      0\n",
       "funded_amnt    0\n",
       "term           0\n",
       "int_rate       0\n",
       "grade          0\n",
       "annual_inc     4\n",
       "issue_d        0\n",
       "loan_status    0\n",
       "dti            0\n",
       "revol_bal      0\n",
       "total_pymnt    0\n",
       "dtype: int64"
      ]
     },
     "execution_count": 13,
     "metadata": {},
     "output_type": "execute_result"
    }
   ],
   "source": [
    "df.isnull().sum()"
   ]
  },
  {
   "cell_type": "markdown",
   "metadata": {},
   "source": [
    "**Only one column, annual income has missing values that too only 4 values.**\n",
    "* Now let's explore those missing values: "
   ]
  },
  {
   "cell_type": "code",
   "execution_count": 14,
   "metadata": {
    "scrolled": true
   },
   "outputs": [
    {
     "data": {
      "text/html": [
       "<div>\n",
       "<style scoped>\n",
       "    .dataframe tbody tr th:only-of-type {\n",
       "        vertical-align: middle;\n",
       "    }\n",
       "\n",
       "    .dataframe tbody tr th {\n",
       "        vertical-align: top;\n",
       "    }\n",
       "\n",
       "    .dataframe thead th {\n",
       "        text-align: right;\n",
       "    }\n",
       "</style>\n",
       "<table border=\"1\" class=\"dataframe\">\n",
       "  <thead>\n",
       "    <tr style=\"text-align: right;\">\n",
       "      <th></th>\n",
       "      <th>loan_amnt</th>\n",
       "      <th>funded_amnt</th>\n",
       "      <th>term</th>\n",
       "      <th>int_rate</th>\n",
       "      <th>grade</th>\n",
       "      <th>annual_inc</th>\n",
       "      <th>issue_d</th>\n",
       "      <th>loan_status</th>\n",
       "      <th>dti</th>\n",
       "      <th>revol_bal</th>\n",
       "      <th>total_pymnt</th>\n",
       "    </tr>\n",
       "  </thead>\n",
       "  <tbody>\n",
       "    <tr>\n",
       "      <th>42449</th>\n",
       "      <td>5000.0</td>\n",
       "      <td>5000.0</td>\n",
       "      <td>36 months</td>\n",
       "      <td>7.43</td>\n",
       "      <td>A</td>\n",
       "      <td>NaN</td>\n",
       "      <td>2007-08-01</td>\n",
       "      <td>Does not meet the credit policy. Status:Fully ...</td>\n",
       "      <td>1.0</td>\n",
       "      <td>0.0</td>\n",
       "      <td>5593.46</td>\n",
       "    </tr>\n",
       "    <tr>\n",
       "      <th>42450</th>\n",
       "      <td>7000.0</td>\n",
       "      <td>7000.0</td>\n",
       "      <td>36 months</td>\n",
       "      <td>7.75</td>\n",
       "      <td>A</td>\n",
       "      <td>NaN</td>\n",
       "      <td>2007-08-01</td>\n",
       "      <td>Does not meet the credit policy. Status:Fully ...</td>\n",
       "      <td>1.0</td>\n",
       "      <td>0.0</td>\n",
       "      <td>7867.53</td>\n",
       "    </tr>\n",
       "    <tr>\n",
       "      <th>42480</th>\n",
       "      <td>6700.0</td>\n",
       "      <td>6700.0</td>\n",
       "      <td>36 months</td>\n",
       "      <td>7.75</td>\n",
       "      <td>A</td>\n",
       "      <td>NaN</td>\n",
       "      <td>2007-07-01</td>\n",
       "      <td>Does not meet the credit policy. Status:Fully ...</td>\n",
       "      <td>1.0</td>\n",
       "      <td>0.0</td>\n",
       "      <td>7530.42</td>\n",
       "    </tr>\n",
       "    <tr>\n",
       "      <th>42533</th>\n",
       "      <td>6500.0</td>\n",
       "      <td>6500.0</td>\n",
       "      <td>36 months</td>\n",
       "      <td>8.38</td>\n",
       "      <td>A</td>\n",
       "      <td>NaN</td>\n",
       "      <td>2007-06-01</td>\n",
       "      <td>Does not meet the credit policy. Status:Fully ...</td>\n",
       "      <td>4.0</td>\n",
       "      <td>0.0</td>\n",
       "      <td>7373.83</td>\n",
       "    </tr>\n",
       "  </tbody>\n",
       "</table>\n",
       "</div>"
      ],
      "text/plain": [
       "       loan_amnt  funded_amnt        term  int_rate grade  annual_inc  \\\n",
       "42449     5000.0       5000.0   36 months      7.43     A         NaN   \n",
       "42450     7000.0       7000.0   36 months      7.75     A         NaN   \n",
       "42480     6700.0       6700.0   36 months      7.75     A         NaN   \n",
       "42533     6500.0       6500.0   36 months      8.38     A         NaN   \n",
       "\n",
       "         issue_d                                        loan_status  dti  \\\n",
       "42449 2007-08-01  Does not meet the credit policy. Status:Fully ...  1.0   \n",
       "42450 2007-08-01  Does not meet the credit policy. Status:Fully ...  1.0   \n",
       "42480 2007-07-01  Does not meet the credit policy. Status:Fully ...  1.0   \n",
       "42533 2007-06-01  Does not meet the credit policy. Status:Fully ...  4.0   \n",
       "\n",
       "       revol_bal  total_pymnt  \n",
       "42449        0.0      5593.46  \n",
       "42450        0.0      7867.53  \n",
       "42480        0.0      7530.42  \n",
       "42533        0.0      7373.83  "
      ]
     },
     "execution_count": 14,
     "metadata": {},
     "output_type": "execute_result"
    }
   ],
   "source": [
    "df[df.isnull().any(axis=1)]"
   ]
  },
  {
   "cell_type": "markdown",
   "metadata": {},
   "source": [
    "* Compare with any random 4 rows to see the difference"
   ]
  },
  {
   "cell_type": "code",
   "execution_count": 15,
   "metadata": {},
   "outputs": [
    {
     "data": {
      "text/html": [
       "<div>\n",
       "<style scoped>\n",
       "    .dataframe tbody tr th:only-of-type {\n",
       "        vertical-align: middle;\n",
       "    }\n",
       "\n",
       "    .dataframe tbody tr th {\n",
       "        vertical-align: top;\n",
       "    }\n",
       "\n",
       "    .dataframe thead th {\n",
       "        text-align: right;\n",
       "    }\n",
       "</style>\n",
       "<table border=\"1\" class=\"dataframe\">\n",
       "  <thead>\n",
       "    <tr style=\"text-align: right;\">\n",
       "      <th></th>\n",
       "      <th>loan_amnt</th>\n",
       "      <th>funded_amnt</th>\n",
       "      <th>term</th>\n",
       "      <th>int_rate</th>\n",
       "      <th>grade</th>\n",
       "      <th>annual_inc</th>\n",
       "      <th>issue_d</th>\n",
       "      <th>loan_status</th>\n",
       "      <th>dti</th>\n",
       "      <th>revol_bal</th>\n",
       "      <th>total_pymnt</th>\n",
       "    </tr>\n",
       "  </thead>\n",
       "  <tbody>\n",
       "    <tr>\n",
       "      <th>423496</th>\n",
       "      <td>17000.0</td>\n",
       "      <td>17000.0</td>\n",
       "      <td>36 months</td>\n",
       "      <td>13.65</td>\n",
       "      <td>C</td>\n",
       "      <td>90000.0</td>\n",
       "      <td>2014-03-01</td>\n",
       "      <td>Current</td>\n",
       "      <td>16.14</td>\n",
       "      <td>4058.0</td>\n",
       "      <td>12140.94</td>\n",
       "    </tr>\n",
       "    <tr>\n",
       "      <th>704441</th>\n",
       "      <td>2200.0</td>\n",
       "      <td>2200.0</td>\n",
       "      <td>36 months</td>\n",
       "      <td>12.29</td>\n",
       "      <td>C</td>\n",
       "      <td>63000.0</td>\n",
       "      <td>2015-07-01</td>\n",
       "      <td>Current</td>\n",
       "      <td>21.49</td>\n",
       "      <td>2752.0</td>\n",
       "      <td>438.78</td>\n",
       "    </tr>\n",
       "    <tr>\n",
       "      <th>431981</th>\n",
       "      <td>7000.0</td>\n",
       "      <td>7000.0</td>\n",
       "      <td>36 months</td>\n",
       "      <td>10.99</td>\n",
       "      <td>B</td>\n",
       "      <td>99000.0</td>\n",
       "      <td>2014-03-01</td>\n",
       "      <td>Fully Paid</td>\n",
       "      <td>8.00</td>\n",
       "      <td>3740.0</td>\n",
       "      <td>7956.66</td>\n",
       "    </tr>\n",
       "    <tr>\n",
       "      <th>536790</th>\n",
       "      <td>14000.0</td>\n",
       "      <td>14000.0</td>\n",
       "      <td>36 months</td>\n",
       "      <td>7.26</td>\n",
       "      <td>A</td>\n",
       "      <td>57000.0</td>\n",
       "      <td>2015-11-01</td>\n",
       "      <td>Current</td>\n",
       "      <td>15.87</td>\n",
       "      <td>3924.0</td>\n",
       "      <td>462.18</td>\n",
       "    </tr>\n",
       "  </tbody>\n",
       "</table>\n",
       "</div>"
      ],
      "text/plain": [
       "        loan_amnt  funded_amnt        term  int_rate grade  annual_inc  \\\n",
       "423496    17000.0      17000.0   36 months     13.65     C     90000.0   \n",
       "704441     2200.0       2200.0   36 months     12.29     C     63000.0   \n",
       "431981     7000.0       7000.0   36 months     10.99     B     99000.0   \n",
       "536790    14000.0      14000.0   36 months      7.26     A     57000.0   \n",
       "\n",
       "          issue_d loan_status    dti  revol_bal  total_pymnt  \n",
       "423496 2014-03-01     Current  16.14     4058.0     12140.94  \n",
       "704441 2015-07-01     Current  21.49     2752.0       438.78  \n",
       "431981 2014-03-01  Fully Paid   8.00     3740.0      7956.66  \n",
       "536790 2015-11-01     Current  15.87     3924.0       462.18  "
      ]
     },
     "execution_count": 15,
     "metadata": {},
     "output_type": "execute_result"
    }
   ],
   "source": [
    "df.sample(4) # get 4 random rows"
   ]
  },
  {
   "cell_type": "markdown",
   "metadata": {},
   "source": [
    "* Loan status looks *interesting* here for the **rows with missing annual income**..."
   ]
  },
  {
   "cell_type": "code",
   "execution_count": 16,
   "metadata": {},
   "outputs": [
    {
     "data": {
      "text/plain": [
       "42449    Does not meet the credit policy. Status:Fully ...\n",
       "42450    Does not meet the credit policy. Status:Fully ...\n",
       "42480    Does not meet the credit policy. Status:Fully ...\n",
       "42533    Does not meet the credit policy. Status:Fully ...\n",
       "Name: loan_status, dtype: object"
      ]
     },
     "execution_count": 16,
     "metadata": {},
     "output_type": "execute_result"
    }
   ],
   "source": [
    "df[df.isnull().any(axis=1)]['loan_status']"
   ]
  },
  {
   "cell_type": "code",
   "execution_count": 17,
   "metadata": {},
   "outputs": [
    {
     "data": {
      "text/plain": [
       "array(['Fully Paid', 'Charged Off', 'Current', 'Default',\n",
       "       'Late (31-120 days)', 'In Grace Period', 'Late (16-30 days)',\n",
       "       'Does not meet the credit policy. Status:Fully Paid',\n",
       "       'Does not meet the credit policy. Status:Charged Off', 'Issued'],\n",
       "      dtype=object)"
      ]
     },
     "execution_count": 17,
     "metadata": {},
     "output_type": "execute_result"
    }
   ],
   "source": [
    "df['loan_status'].unique()"
   ]
  },
  {
   "cell_type": "markdown",
   "metadata": {},
   "source": [
    "#### My evaluation\n",
    "\n",
    "* Since these are less than **0.001%** of the rows, we can just drop them \n",
    "* Imputing them doesn't make sense here since that will leak data"
   ]
  },
  {
   "cell_type": "code",
   "execution_count": 18,
   "metadata": {},
   "outputs": [],
   "source": [
    "df_no_na = df.dropna(axis = 0)"
   ]
  },
  {
   "cell_type": "code",
   "execution_count": 19,
   "metadata": {},
   "outputs": [
    {
     "data": {
      "text/plain": [
       "(887375, 11)"
      ]
     },
     "execution_count": 19,
     "metadata": {},
     "output_type": "execute_result"
    }
   ],
   "source": [
    "df_no_na.shape # we have dropped those 4 rows "
   ]
  },
  {
   "cell_type": "markdown",
   "metadata": {},
   "source": [
    "### 1.3 Describe the distribution of features"
   ]
  },
  {
   "cell_type": "markdown",
   "metadata": {},
   "source": [
    "#### 1.3.1 Continuous features "
   ]
  },
  {
   "cell_type": "code",
   "execution_count": 20,
   "metadata": {},
   "outputs": [],
   "source": [
    "df_cont = df_no_na.select_dtypes(include = [\"float64\"])"
   ]
  },
  {
   "cell_type": "code",
   "execution_count": 21,
   "metadata": {},
   "outputs": [
    {
     "data": {
      "text/html": [
       "<div>\n",
       "<style scoped>\n",
       "    .dataframe tbody tr th:only-of-type {\n",
       "        vertical-align: middle;\n",
       "    }\n",
       "\n",
       "    .dataframe tbody tr th {\n",
       "        vertical-align: top;\n",
       "    }\n",
       "\n",
       "    .dataframe thead th {\n",
       "        text-align: right;\n",
       "    }\n",
       "</style>\n",
       "<table border=\"1\" class=\"dataframe\">\n",
       "  <thead>\n",
       "    <tr style=\"text-align: right;\">\n",
       "      <th></th>\n",
       "      <th>loan_amnt</th>\n",
       "      <th>funded_amnt</th>\n",
       "      <th>int_rate</th>\n",
       "      <th>annual_inc</th>\n",
       "      <th>dti</th>\n",
       "      <th>revol_bal</th>\n",
       "      <th>total_pymnt</th>\n",
       "    </tr>\n",
       "  </thead>\n",
       "  <tbody>\n",
       "    <tr>\n",
       "      <th>49483</th>\n",
       "      <td>5000.0</td>\n",
       "      <td>5000.0</td>\n",
       "      <td>6.62</td>\n",
       "      <td>120000.0</td>\n",
       "      <td>9.79</td>\n",
       "      <td>11359.0</td>\n",
       "      <td>5222.92</td>\n",
       "    </tr>\n",
       "    <tr>\n",
       "      <th>838711</th>\n",
       "      <td>23925.0</td>\n",
       "      <td>23925.0</td>\n",
       "      <td>21.67</td>\n",
       "      <td>75000.0</td>\n",
       "      <td>36.53</td>\n",
       "      <td>48272.0</td>\n",
       "      <td>6591.90</td>\n",
       "    </tr>\n",
       "    <tr>\n",
       "      <th>702975</th>\n",
       "      <td>3500.0</td>\n",
       "      <td>3500.0</td>\n",
       "      <td>11.53</td>\n",
       "      <td>125000.0</td>\n",
       "      <td>29.49</td>\n",
       "      <td>7782.0</td>\n",
       "      <td>3698.15</td>\n",
       "    </tr>\n",
       "    <tr>\n",
       "      <th>333877</th>\n",
       "      <td>10000.0</td>\n",
       "      <td>10000.0</td>\n",
       "      <td>8.39</td>\n",
       "      <td>80000.0</td>\n",
       "      <td>12.69</td>\n",
       "      <td>5337.0</td>\n",
       "      <td>5357.89</td>\n",
       "    </tr>\n",
       "    <tr>\n",
       "      <th>471437</th>\n",
       "      <td>35000.0</td>\n",
       "      <td>35000.0</td>\n",
       "      <td>9.17</td>\n",
       "      <td>93000.0</td>\n",
       "      <td>29.06</td>\n",
       "      <td>24962.0</td>\n",
       "      <td>0.00</td>\n",
       "    </tr>\n",
       "  </tbody>\n",
       "</table>\n",
       "</div>"
      ],
      "text/plain": [
       "        loan_amnt  funded_amnt  int_rate  annual_inc    dti  revol_bal  \\\n",
       "49483      5000.0       5000.0      6.62    120000.0   9.79    11359.0   \n",
       "838711    23925.0      23925.0     21.67     75000.0  36.53    48272.0   \n",
       "702975     3500.0       3500.0     11.53    125000.0  29.49     7782.0   \n",
       "333877    10000.0      10000.0      8.39     80000.0  12.69     5337.0   \n",
       "471437    35000.0      35000.0      9.17     93000.0  29.06    24962.0   \n",
       "\n",
       "        total_pymnt  \n",
       "49483       5222.92  \n",
       "838711      6591.90  \n",
       "702975      3698.15  \n",
       "333877      5357.89  \n",
       "471437         0.00  "
      ]
     },
     "execution_count": 21,
     "metadata": {},
     "output_type": "execute_result"
    }
   ],
   "source": [
    "df_cont.sample(5)"
   ]
  },
  {
   "cell_type": "code",
   "execution_count": 22,
   "metadata": {},
   "outputs": [
    {
     "data": {
      "text/html": [
       "<div>\n",
       "<style scoped>\n",
       "    .dataframe tbody tr th:only-of-type {\n",
       "        vertical-align: middle;\n",
       "    }\n",
       "\n",
       "    .dataframe tbody tr th {\n",
       "        vertical-align: top;\n",
       "    }\n",
       "\n",
       "    .dataframe thead th {\n",
       "        text-align: right;\n",
       "    }\n",
       "</style>\n",
       "<table border=\"1\" class=\"dataframe\">\n",
       "  <thead>\n",
       "    <tr style=\"text-align: right;\">\n",
       "      <th></th>\n",
       "      <th>loan_amnt</th>\n",
       "      <th>funded_amnt</th>\n",
       "      <th>int_rate</th>\n",
       "      <th>annual_inc</th>\n",
       "      <th>dti</th>\n",
       "      <th>revol_bal</th>\n",
       "      <th>total_pymnt</th>\n",
       "    </tr>\n",
       "  </thead>\n",
       "  <tbody>\n",
       "    <tr>\n",
       "      <th>count</th>\n",
       "      <td>887375.000000</td>\n",
       "      <td>887375.000000</td>\n",
       "      <td>887375.000000</td>\n",
       "      <td>8.873750e+05</td>\n",
       "      <td>887375.000000</td>\n",
       "      <td>8.873750e+05</td>\n",
       "      <td>887375.000000</td>\n",
       "    </tr>\n",
       "    <tr>\n",
       "      <th>mean</th>\n",
       "      <td>14755.302719</td>\n",
       "      <td>14741.915678</td>\n",
       "      <td>13.246764</td>\n",
       "      <td>7.502759e+04</td>\n",
       "      <td>18.157113</td>\n",
       "      <td>1.692086e+04</td>\n",
       "      <td>7558.828791</td>\n",
       "    </tr>\n",
       "    <tr>\n",
       "      <th>std</th>\n",
       "      <td>8435.455353</td>\n",
       "      <td>8429.897443</td>\n",
       "      <td>4.381862</td>\n",
       "      <td>6.469830e+04</td>\n",
       "      <td>17.190629</td>\n",
       "      <td>2.242681e+04</td>\n",
       "      <td>7871.260790</td>\n",
       "    </tr>\n",
       "    <tr>\n",
       "      <th>min</th>\n",
       "      <td>500.000000</td>\n",
       "      <td>500.000000</td>\n",
       "      <td>5.320000</td>\n",
       "      <td>0.000000e+00</td>\n",
       "      <td>0.000000</td>\n",
       "      <td>0.000000e+00</td>\n",
       "      <td>0.000000</td>\n",
       "    </tr>\n",
       "    <tr>\n",
       "      <th>25%</th>\n",
       "      <td>8000.000000</td>\n",
       "      <td>8000.000000</td>\n",
       "      <td>9.990000</td>\n",
       "      <td>4.500000e+04</td>\n",
       "      <td>11.910000</td>\n",
       "      <td>6.443500e+03</td>\n",
       "      <td>1914.590000</td>\n",
       "    </tr>\n",
       "    <tr>\n",
       "      <th>50%</th>\n",
       "      <td>13000.000000</td>\n",
       "      <td>13000.000000</td>\n",
       "      <td>12.990000</td>\n",
       "      <td>6.500000e+04</td>\n",
       "      <td>17.650000</td>\n",
       "      <td>1.187500e+04</td>\n",
       "      <td>4894.950000</td>\n",
       "    </tr>\n",
       "    <tr>\n",
       "      <th>75%</th>\n",
       "      <td>20000.000000</td>\n",
       "      <td>20000.000000</td>\n",
       "      <td>16.200000</td>\n",
       "      <td>9.000000e+04</td>\n",
       "      <td>23.950000</td>\n",
       "      <td>2.082900e+04</td>\n",
       "      <td>10616.844231</td>\n",
       "    </tr>\n",
       "    <tr>\n",
       "      <th>max</th>\n",
       "      <td>35000.000000</td>\n",
       "      <td>35000.000000</td>\n",
       "      <td>28.990000</td>\n",
       "      <td>9.500000e+06</td>\n",
       "      <td>9999.000000</td>\n",
       "      <td>2.904836e+06</td>\n",
       "      <td>57777.579870</td>\n",
       "    </tr>\n",
       "  </tbody>\n",
       "</table>\n",
       "</div>"
      ],
      "text/plain": [
       "           loan_amnt    funded_amnt       int_rate    annual_inc  \\\n",
       "count  887375.000000  887375.000000  887375.000000  8.873750e+05   \n",
       "mean    14755.302719   14741.915678      13.246764  7.502759e+04   \n",
       "std      8435.455353    8429.897443       4.381862  6.469830e+04   \n",
       "min       500.000000     500.000000       5.320000  0.000000e+00   \n",
       "25%      8000.000000    8000.000000       9.990000  4.500000e+04   \n",
       "50%     13000.000000   13000.000000      12.990000  6.500000e+04   \n",
       "75%     20000.000000   20000.000000      16.200000  9.000000e+04   \n",
       "max     35000.000000   35000.000000      28.990000  9.500000e+06   \n",
       "\n",
       "                 dti     revol_bal    total_pymnt  \n",
       "count  887375.000000  8.873750e+05  887375.000000  \n",
       "mean       18.157113  1.692086e+04    7558.828791  \n",
       "std        17.190629  2.242681e+04    7871.260790  \n",
       "min         0.000000  0.000000e+00       0.000000  \n",
       "25%        11.910000  6.443500e+03    1914.590000  \n",
       "50%        17.650000  1.187500e+04    4894.950000  \n",
       "75%        23.950000  2.082900e+04   10616.844231  \n",
       "max      9999.000000  2.904836e+06   57777.579870  "
      ]
     },
     "execution_count": 22,
     "metadata": {},
     "output_type": "execute_result"
    }
   ],
   "source": [
    "# Let's look at the summary statistics first\n",
    "df_cont.describe()"
   ]
  },
  {
   "cell_type": "code",
   "execution_count": 23,
   "metadata": {},
   "outputs": [
    {
     "data": {
      "image/png": "[encoded data removed]",
      "text/plain": [
       "<Figure size 1440x1440 with 9 Axes>"
      ]
     },
     "metadata": {
      "needs_background": "light"
     },
     "output_type": "display_data"
    }
   ],
   "source": [
    "# Plot distributions of continuous features\n",
    "\n",
    "fig, ax = plt.subplots(nrows = 3, ncols = 3, figsize = (20, 20))\n",
    "\n",
    "for i, ax in enumerate(ax.ravel()):\n",
    "    if i > 6:\n",
    "        continue\n",
    "    ax.hist(df_cont.iloc[:, i], color='steelblue', edgecolor='black', bins=10, linewidth=1.0)\n",
    "    ax.set_xlabel(df_cont.columns.values[i], color='k')\n",
    "        \n",
    "fig.suptitle('Histograms of Continuous Features', fontsize=20)        \n",
    "plt.show()"
   ]
  },
  {
   "cell_type": "markdown",
   "metadata": {},
   "source": [
    "#### Comment: The distributions of the features are defined below\n",
    "* Loan amount,  Funded amount and Interest rate seem to have a slight poitive skew; however, we can approximate them to be normally distributed \n",
    "* Total payment: Has an exponential distribution, higher values have exponentially lower counts\n",
    "* Annual income, DTI and Revolv_bal also have exponential distributions, with very high values of lambda, i.e. the decay is much faster "
   ]
  },
  {
   "cell_type": "markdown",
   "metadata": {},
   "source": [
    "#### 1.3.2 Categorical features "
   ]
  },
  {
   "cell_type": "markdown",
   "metadata": {},
   "source": [
    "* **Let's look at the unique values of the categorical columns**"
   ]
  },
  {
   "cell_type": "code",
   "execution_count": 24,
   "metadata": {},
   "outputs": [],
   "source": [
    "# separate categorical features \n",
    "df_cat = df_no_na.select_dtypes(include = [\"object\"])"
   ]
  },
  {
   "cell_type": "code",
   "execution_count": 25,
   "metadata": {},
   "outputs": [
    {
     "data": {
      "text/html": [
       "<div>\n",
       "<style scoped>\n",
       "    .dataframe tbody tr th:only-of-type {\n",
       "        vertical-align: middle;\n",
       "    }\n",
       "\n",
       "    .dataframe tbody tr th {\n",
       "        vertical-align: top;\n",
       "    }\n",
       "\n",
       "    .dataframe thead th {\n",
       "        text-align: right;\n",
       "    }\n",
       "</style>\n",
       "<table border=\"1\" class=\"dataframe\">\n",
       "  <thead>\n",
       "    <tr style=\"text-align: right;\">\n",
       "      <th></th>\n",
       "      <th>term</th>\n",
       "      <th>grade</th>\n",
       "      <th>loan_status</th>\n",
       "    </tr>\n",
       "  </thead>\n",
       "  <tbody>\n",
       "    <tr>\n",
       "      <th>687465</th>\n",
       "      <td>36 months</td>\n",
       "      <td>D</td>\n",
       "      <td>Current</td>\n",
       "    </tr>\n",
       "    <tr>\n",
       "      <th>699920</th>\n",
       "      <td>60 months</td>\n",
       "      <td>G</td>\n",
       "      <td>Current</td>\n",
       "    </tr>\n",
       "    <tr>\n",
       "      <th>770543</th>\n",
       "      <td>36 months</td>\n",
       "      <td>B</td>\n",
       "      <td>Current</td>\n",
       "    </tr>\n",
       "    <tr>\n",
       "      <th>830349</th>\n",
       "      <td>60 months</td>\n",
       "      <td>B</td>\n",
       "      <td>Current</td>\n",
       "    </tr>\n",
       "    <tr>\n",
       "      <th>211313</th>\n",
       "      <td>36 months</td>\n",
       "      <td>A</td>\n",
       "      <td>Fully Paid</td>\n",
       "    </tr>\n",
       "  </tbody>\n",
       "</table>\n",
       "</div>"
      ],
      "text/plain": [
       "              term grade loan_status\n",
       "687465   36 months     D     Current\n",
       "699920   60 months     G     Current\n",
       "770543   36 months     B     Current\n",
       "830349   60 months     B     Current\n",
       "211313   36 months     A  Fully Paid"
      ]
     },
     "execution_count": 25,
     "metadata": {},
     "output_type": "execute_result"
    }
   ],
   "source": [
    "df_cat.sample(5)"
   ]
  },
  {
   "cell_type": "code",
   "execution_count": 26,
   "metadata": {},
   "outputs": [
    {
     "data": {
      "text/plain": [
       "array([' 36 months', ' 60 months'], dtype=object)"
      ]
     },
     "execution_count": 26,
     "metadata": {},
     "output_type": "execute_result"
    }
   ],
   "source": [
    "df_cat['term'].unique()"
   ]
  },
  {
   "cell_type": "code",
   "execution_count": 27,
   "metadata": {},
   "outputs": [
    {
     "data": {
      "text/plain": [
       "array(['B', 'C', 'A', 'E', 'F', 'D', 'G'], dtype=object)"
      ]
     },
     "execution_count": 27,
     "metadata": {},
     "output_type": "execute_result"
    }
   ],
   "source": [
    "df_cat['grade'].unique()"
   ]
  },
  {
   "cell_type": "code",
   "execution_count": 28,
   "metadata": {},
   "outputs": [
    {
     "data": {
      "text/plain": [
       "array(['Fully Paid', 'Charged Off', 'Current', 'Default',\n",
       "       'Late (31-120 days)', 'In Grace Period', 'Late (16-30 days)',\n",
       "       'Does not meet the credit policy. Status:Fully Paid',\n",
       "       'Does not meet the credit policy. Status:Charged Off', 'Issued'],\n",
       "      dtype=object)"
      ]
     },
     "execution_count": 28,
     "metadata": {},
     "output_type": "execute_result"
    }
   ],
   "source": [
    "df_cat['loan_status'].unique()"
   ]
  },
  {
   "cell_type": "markdown",
   "metadata": {},
   "source": [
    "* **Summary statistics**"
   ]
  },
  {
   "cell_type": "code",
   "execution_count": 29,
   "metadata": {},
   "outputs": [
    {
     "name": "stdout",
     "output_type": "stream",
     "text": [
      "Column Name:  term\n",
      " \n",
      " 36 months    621121\n",
      " 60 months    266254\n",
      "Name: term, dtype: int64\n",
      " \n",
      "Column Name:  grade\n",
      " \n",
      "B    254535\n",
      "C    245860\n",
      "A    148198\n",
      "D    139542\n",
      "E     70705\n",
      "F     23046\n",
      "G      5489\n",
      "Name: grade, dtype: int64\n",
      " \n",
      "Column Name:  loan_status\n",
      " \n",
      "Current                                                601779\n",
      "Fully Paid                                             207723\n",
      "Charged Off                                             45248\n",
      "Late (31-120 days)                                      11591\n",
      "Issued                                                   8460\n",
      "In Grace Period                                          6253\n",
      "Late (16-30 days)                                        2357\n",
      "Does not meet the credit policy. Status:Fully Paid       1984\n",
      "Default                                                  1219\n",
      "Does not meet the credit policy. Status:Charged Off       761\n",
      "Name: loan_status, dtype: int64\n",
      " \n"
     ]
    }
   ],
   "source": [
    "# Value Counts \n",
    "for col in df_cat:\n",
    "    print(\"Column Name: \", col )\n",
    "    print(\" \")\n",
    "    print(df_cat[col].value_counts())\n",
    "    print(\" \")"
   ]
  },
  {
   "cell_type": "markdown",
   "metadata": {},
   "source": [
    "* **Visualisations** "
   ]
  },
  {
   "cell_type": "code",
   "execution_count": 30,
   "metadata": {},
   "outputs": [
    {
     "data": {
      "image/png": "[encoded data removed]",
      "text/plain": [
       "<Figure size 1080x360 with 3 Axes>"
      ]
     },
     "metadata": {
      "needs_background": "light"
     },
     "output_type": "display_data"
    }
   ],
   "source": [
    "# Plot distributions of continuous features\n",
    "\n",
    "fig, ax = plt.subplots(nrows = 1, ncols = 3, figsize = (15, 5))\n",
    "sns.set(style=\"darkgrid\")\n",
    "\n",
    "\n",
    "sns.countplot(x=\"term\", data = df_cat, ax=ax[0])\n",
    "sns.countplot(x=\"grade\", data = df_cat, ax=ax[1])\n",
    "\n",
    "# Set tick labels for loan status separartely since they don't fit\n",
    "labels = df_cat['loan_status'].unique()\n",
    "ax[2].set_xticklabels(labels = labels, rotation=90)\n",
    "\n",
    "sns.countplot(x=\"loan_status\", data = df_cat, ax=ax[2])\n",
    "\n",
    "        \n",
    "fig.suptitle('Count Plots of categorical features', fontsize=20)        \n",
    "plt.show()"
   ]
  },
  {
   "cell_type": "markdown",
   "metadata": {},
   "source": [
    "#### Comment\n",
    "* We see that most of the loand are 36 month loans \n",
    "* Grade B and C are the most common grades among the loans\n",
    "* Similarly, for *loan status*, current is the most common status while the next common category is Fully paid followed by charged off. The rest of the categories are quite insignificant compared to these"
   ]
  },
  {
   "cell_type": "markdown",
   "metadata": {},
   "source": [
    "* **Check out the date variable**"
   ]
  },
  {
   "cell_type": "code",
   "execution_count": 31,
   "metadata": {},
   "outputs": [
    {
     "name": "stdout",
     "output_type": "stream",
     "text": [
      "Min Date:  2007-06-01 00:00:00\n",
      "Min Date:  2015-12-01 00:00:00\n"
     ]
    }
   ],
   "source": [
    "print(\"Min Date: \", df_no_na['issue_d'].min())\n",
    "print(\"Min Date: \", df_no_na['issue_d'].max())"
   ]
  },
  {
   "cell_type": "markdown",
   "metadata": {},
   "source": [
    "### Outliers in the dataset "
   ]
  },
  {
   "cell_type": "markdown",
   "metadata": {},
   "source": [
    "Given the skews in most of our continuous features, there exist sets of outliers; however, there is no point in removing them since I will be using an L2 penalty which reduces their effect on the model. \n",
    "\n",
    "It is possible to understand outlier behaviour in this dataset using many approaches such as:\n",
    "* IsolationForest\n",
    "* OneClassSVM\n",
    "* Elliptic Envelope \n",
    "\n",
    "All of these are offered in sklearn and can be used to study these outliers; however, this is not the focus of this case study so will not be covered. "
   ]
  },
  {
   "cell_type": "markdown",
   "metadata": {},
   "source": [
    "## Part 2: Business Analysis\n",
    "\n",
    "We are interested in evaluating whether the 36 month term loans would make for a good investment. Please investigate the following. Assume a 36 month investment period for each loan, and exclude loans with less than 36 months of data available."
   ]
  },
  {
   "cell_type": "code",
   "execution_count": 32,
   "metadata": {},
   "outputs": [],
   "source": [
    "# Subet datframe\n",
    "df_36_only = df_no_na[df_no_na['term'] == ' 36 months']"
   ]
  },
  {
   "cell_type": "markdown",
   "metadata": {},
   "source": [
    "### 1) What percentage of loans has been fully paid?\n"
   ]
  },
  {
   "cell_type": "code",
   "execution_count": 33,
   "metadata": {},
   "outputs": [
    {
     "name": "stdout",
     "output_type": "stream",
     "text": [
      "Percentage of loans Fully Paid: 26.98%\n"
     ]
    }
   ],
   "source": [
    "perc_fully_paid = len(df_36_only[df_36_only['loan_status'] == 'Fully Paid']) / len(df_36_only)\n",
    "print(\"Percentage of loans Fully Paid: {:.2f}%\".format(perc_fully_paid*100))"
   ]
  },
  {
   "cell_type": "markdown",
   "metadata": {},
   "source": [
    "### 2) When bucketed by year of origination and grade, which cohort has the highest rate of defaults? Here you may assume that any loan which was not fully paid had “defaulted”."
   ]
  },
  {
   "cell_type": "markdown",
   "metadata": {},
   "source": [
    "* **If 'Defaulted' = 1** i.e. anywhere loan not fully paid\n",
    "* **If 'Fully Paid' = 0**"
   ]
  },
  {
   "cell_type": "code",
   "execution_count": 34,
   "metadata": {},
   "outputs": [
    {
     "name": "stderr",
     "output_type": "stream",
     "text": [
      "/Users/pranjalbajaj/anaconda3/lib/python3.7/site-packages/ipykernel_launcher.py:1: SettingWithCopyWarning: \n",
      "A value is trying to be set on a copy of a slice from a DataFrame.\n",
      "Try using .loc[row_indexer,col_indexer] = value instead\n",
      "\n",
      "See the caveats in the documentation: http://pandas.pydata.org/pandas-docs/stable/indexing.html#indexing-view-versus-copy\n",
      "  \"\"\"Entry point for launching an IPython kernel.\n"
     ]
    }
   ],
   "source": [
    "df_36_only['loan_status'] = np.where(df_36_only['loan_status'] == 'Fully Paid', 0, 1)"
   ]
  },
  {
   "cell_type": "code",
   "execution_count": 35,
   "metadata": {},
   "outputs": [
    {
     "name": "stdout",
     "output_type": "stream",
     "text": [
      "Percentage of loans Fully Paid 26.98%\n"
     ]
    }
   ],
   "source": [
    "# Check if the above code caused no errors\n",
    "perc_fully_paid = len(df_36_only[df_36_only['loan_status'] == 0]) / len(df_36_only)\n",
    "print(\"Percentage of loans Fully Paid {:.2f}%\".format(perc_fully_paid*100))"
   ]
  },
  {
   "cell_type": "code",
   "execution_count": 36,
   "metadata": {},
   "outputs": [],
   "source": [
    "# Group by YEAR and grade\n",
    "grouped = df_36_only.groupby([df_36_only['issue_d'].dt.year, 'grade'])"
   ]
  },
  {
   "cell_type": "markdown",
   "metadata": {},
   "source": [
    "**Rate of Default = Default / Total (In group)**"
   ]
  },
  {
   "cell_type": "code",
   "execution_count": 37,
   "metadata": {},
   "outputs": [],
   "source": [
    "# Apply function to get Default Rate\n",
    "\n",
    "cohorts = grouped['loan_status'].agg([('perc_default', \n",
    "                             lambda x: ((x == 1).sum() / ((x == 0).sum() + (x == 1).sum())))])"
   ]
  },
  {
   "cell_type": "markdown",
   "metadata": {},
   "source": [
    "#### As is clear from the Dataframe below, *2007 G* is the cohort with the highest default rate of basically 100%"
   ]
  },
  {
   "cell_type": "code",
   "execution_count": 38,
   "metadata": {},
   "outputs": [
    {
     "data": {
      "text/html": [
       "<div>\n",
       "<style scoped>\n",
       "    .dataframe tbody tr th:only-of-type {\n",
       "        vertical-align: middle;\n",
       "    }\n",
       "\n",
       "    .dataframe tbody tr th {\n",
       "        vertical-align: top;\n",
       "    }\n",
       "\n",
       "    .dataframe thead th {\n",
       "        text-align: right;\n",
       "    }\n",
       "</style>\n",
       "<table border=\"1\" class=\"dataframe\">\n",
       "  <thead>\n",
       "    <tr style=\"text-align: right;\">\n",
       "      <th></th>\n",
       "      <th></th>\n",
       "      <th>perc_default</th>\n",
       "    </tr>\n",
       "    <tr>\n",
       "      <th>issue_d</th>\n",
       "      <th>grade</th>\n",
       "      <th></th>\n",
       "    </tr>\n",
       "  </thead>\n",
       "  <tbody>\n",
       "    <tr>\n",
       "      <th>2007</th>\n",
       "      <th>G</th>\n",
       "      <td>1.000000</td>\n",
       "    </tr>\n",
       "    <tr>\n",
       "      <th>2008</th>\n",
       "      <th>G</th>\n",
       "      <td>0.976744</td>\n",
       "    </tr>\n",
       "    <tr>\n",
       "      <th rowspan=\"3\" valign=\"top\">2015</th>\n",
       "      <th>A</th>\n",
       "      <td>0.955312</td>\n",
       "    </tr>\n",
       "    <tr>\n",
       "      <th>B</th>\n",
       "      <td>0.948912</td>\n",
       "    </tr>\n",
       "    <tr>\n",
       "      <th>C</th>\n",
       "      <td>0.931936</td>\n",
       "    </tr>\n",
       "  </tbody>\n",
       "</table>\n",
       "</div>"
      ],
      "text/plain": [
       "               perc_default\n",
       "issue_d grade              \n",
       "2007    G          1.000000\n",
       "2008    G          0.976744\n",
       "2015    A          0.955312\n",
       "        B          0.948912\n",
       "        C          0.931936"
      ]
     },
     "execution_count": 38,
     "metadata": {},
     "output_type": "execute_result"
    }
   ],
   "source": [
    "# Sort values\n",
    "cohorts.sort_values(by = ['perc_default'], ascending = False).head()"
   ]
  },
  {
   "cell_type": "markdown",
   "metadata": {},
   "source": [
    "### 3) When bucketed by year of origination and grade, what annualized rate of return have these loans generated on average?\n",
    "\n",
    "* For simplicity, use the following approximation:\n",
    "    * Annualized rate of return = (total_pymnt / funded_amnt) ^ (1/3) - 1"
   ]
  },
  {
   "cell_type": "code",
   "execution_count": 39,
   "metadata": {},
   "outputs": [],
   "source": [
    "averages = grouped.agg({'funded_amnt': 'mean', 'total_pymnt': 'mean'})"
   ]
  },
  {
   "cell_type": "code",
   "execution_count": 40,
   "metadata": {},
   "outputs": [],
   "source": [
    "# define annualized rate of return\n",
    "averages['Annualized_Rate_of_Returns'] = ((averages['total_pymnt'] / averages['funded_amnt'])**(1/3))-1"
   ]
  },
  {
   "cell_type": "code",
   "execution_count": 41,
   "metadata": {},
   "outputs": [
    {
     "data": {
      "text/html": [
       "<div>\n",
       "<style scoped>\n",
       "    .dataframe tbody tr th:only-of-type {\n",
       "        vertical-align: middle;\n",
       "    }\n",
       "\n",
       "    .dataframe tbody tr th {\n",
       "        vertical-align: top;\n",
       "    }\n",
       "\n",
       "    .dataframe thead th {\n",
       "        text-align: right;\n",
       "    }\n",
       "</style>\n",
       "<table border=\"1\" class=\"dataframe\">\n",
       "  <thead>\n",
       "    <tr style=\"text-align: right;\">\n",
       "      <th></th>\n",
       "      <th></th>\n",
       "      <th>funded_amnt</th>\n",
       "      <th>total_pymnt</th>\n",
       "      <th>Annualized_Rate_of_Returns</th>\n",
       "    </tr>\n",
       "    <tr>\n",
       "      <th>issue_d</th>\n",
       "      <th>grade</th>\n",
       "      <th></th>\n",
       "      <th></th>\n",
       "      <th></th>\n",
       "    </tr>\n",
       "  </thead>\n",
       "  <tbody>\n",
       "    <tr>\n",
       "      <th rowspan=\"5\" valign=\"top\">2007</th>\n",
       "      <th>A</th>\n",
       "      <td>4945.945946</td>\n",
       "      <td>5396.874459</td>\n",
       "      <td>0.029511</td>\n",
       "    </tr>\n",
       "    <tr>\n",
       "      <th>B</th>\n",
       "      <td>8184.693878</td>\n",
       "      <td>8323.797551</td>\n",
       "      <td>0.005633</td>\n",
       "    </tr>\n",
       "    <tr>\n",
       "      <th>C</th>\n",
       "      <td>8132.978723</td>\n",
       "      <td>8245.527730</td>\n",
       "      <td>0.004592</td>\n",
       "    </tr>\n",
       "    <tr>\n",
       "      <th>D</th>\n",
       "      <td>7654.040404</td>\n",
       "      <td>7540.993273</td>\n",
       "      <td>-0.004948</td>\n",
       "    </tr>\n",
       "    <tr>\n",
       "      <th>E</th>\n",
       "      <td>7817.750000</td>\n",
       "      <td>7633.371200</td>\n",
       "      <td>-0.007924</td>\n",
       "    </tr>\n",
       "  </tbody>\n",
       "</table>\n",
       "</div>"
      ],
      "text/plain": [
       "               funded_amnt  total_pymnt  Annualized_Rate_of_Returns\n",
       "issue_d grade                                                      \n",
       "2007    A      4945.945946  5396.874459                    0.029511\n",
       "        B      8184.693878  8323.797551                    0.005633\n",
       "        C      8132.978723  8245.527730                    0.004592\n",
       "        D      7654.040404  7540.993273                   -0.004948\n",
       "        E      7817.750000  7633.371200                   -0.007924"
      ]
     },
     "execution_count": 41,
     "metadata": {},
     "output_type": "execute_result"
    }
   ],
   "source": [
    "averages.head()"
   ]
  },
  {
   "cell_type": "markdown",
   "metadata": {},
   "source": [
    "## Part 3: Modeling"
   ]
  },
  {
   "cell_type": "markdown",
   "metadata": {},
   "source": [
    "Assumptions:\n",
    "\n",
    "1. You are given the ability to invest in each loan independently; **i.e. IID Assumption**\n",
    "\n",
    "2. You invest immediately following loan origination and hold to maturity (36 months); and \n",
    "\n",
    "3. All loan fields that would be known upon origination are made available to you. **i.e. No missing data**"
   ]
  },
  {
   "cell_type": "markdown",
   "metadata": {},
   "source": [
    "#### Discussion\n",
    "\n",
    "* Class 1 = Default \n",
    "* Class 0 = No Default \n",
    "\n",
    "#### Task: Predict Loan Default \n",
    "\n",
    "*  As a risk-averse investor, I would like to ensure that those loans that I predict to be safe (i.e. will not default) **will actually not default** since I would like to ensure that my investment is safe\n",
    "\n",
    "* Hence, we cannot afford **False Negatives** \n",
    "\n",
    "* However, as an investor, I would like to be very sure of those I predict to default since I would not like to loose out on a perfectly good opportunity. Hence, **False Positives** are also costly. \n",
    "\n",
    "* Hence, we would like to ensure that both false positives and false negatives are minimized\n",
    "\n",
    "* The choice of metric will depend on the imbalance of the classes, which we know from part 2 is already imbalanced towards the \"will default\" class.\n",
    "    * In this case metrics that are robust to class imbalance such as:\n",
    "        * AUC \n",
    "        * F1 Score: 2 * (precision * recall) / (precision + recall)\n",
    "\n",
    "Precision =  True / Predicted to be True\n",
    "* tp / (tp + fp) \n",
    "\n",
    "Recall = True / Actual Truth\n",
    "* tp / (tp + fn) "
   ]
  },
  {
   "cell_type": "markdown",
   "metadata": {},
   "source": [
    "### Data preparation for modelling"
   ]
  },
  {
   "cell_type": "code",
   "execution_count": 42,
   "metadata": {},
   "outputs": [],
   "source": [
    "# Libraries for preprocessing\n",
    "from sklearn.compose import ColumnTransformer\n",
    "from sklearn.pipeline import Pipeline, make_pipeline\n",
    "from sklearn.preprocessing import StandardScaler, OneHotEncoder\n",
    "\n",
    "# Modelling\n",
    "from sklearn.linear_model import LogisticRegression\n",
    "\n",
    "# Splitting and Cross-validation \n",
    "from sklearn.model_selection import train_test_split, GridSearchCV\n",
    "from sklearn.model_selection import StratifiedShuffleSplit\n",
    "from sklearn.model_selection import StratifiedKFold\n",
    "\n",
    "# Metrics \n",
    "from sklearn.metrics import accuracy_score, roc_auc_score, f1_score\n",
    "from sklearn.metrics import confusion_matrix, classification_report"
   ]
  },
  {
   "cell_type": "markdown",
   "metadata": {},
   "source": [
    "#### 1. Drop missing data: Already dropped in the first part of this study"
   ]
  },
  {
   "cell_type": "markdown",
   "metadata": {},
   "source": [
    "#### 2. Separate Features and Target"
   ]
  },
  {
   "cell_type": "code",
   "execution_count": 43,
   "metadata": {},
   "outputs": [],
   "source": [
    "y = df_36_only['loan_status']\n",
    "X = df_36_only.drop(['loan_status'], axis = 1)"
   ]
  },
  {
   "cell_type": "code",
   "execution_count": 44,
   "metadata": {},
   "outputs": [
    {
     "name": "stdout",
     "output_type": "stream",
     "text": [
      "Default% = 73.02%\n"
     ]
    }
   ],
   "source": [
    "print(\"Default% = {:.2f}%\".format((len(y[y==1]) / len(y))*100))"
   ]
  },
  {
   "cell_type": "markdown",
   "metadata": {},
   "source": [
    "#### 3. Drop columns that clearly don't add any value"
   ]
  },
  {
   "cell_type": "code",
   "execution_count": 45,
   "metadata": {},
   "outputs": [
    {
     "data": {
      "text/plain": [
       "(621121, 10)"
      ]
     },
     "execution_count": 45,
     "metadata": {},
     "output_type": "execute_result"
    }
   ],
   "source": [
    "X.shape"
   ]
  },
  {
   "cell_type": "code",
   "execution_count": 46,
   "metadata": {},
   "outputs": [
    {
     "data": {
      "text/html": [
       "<div>\n",
       "<style scoped>\n",
       "    .dataframe tbody tr th:only-of-type {\n",
       "        vertical-align: middle;\n",
       "    }\n",
       "\n",
       "    .dataframe tbody tr th {\n",
       "        vertical-align: top;\n",
       "    }\n",
       "\n",
       "    .dataframe thead th {\n",
       "        text-align: right;\n",
       "    }\n",
       "</style>\n",
       "<table border=\"1\" class=\"dataframe\">\n",
       "  <thead>\n",
       "    <tr style=\"text-align: right;\">\n",
       "      <th></th>\n",
       "      <th>loan_amnt</th>\n",
       "      <th>funded_amnt</th>\n",
       "      <th>term</th>\n",
       "      <th>int_rate</th>\n",
       "      <th>grade</th>\n",
       "      <th>annual_inc</th>\n",
       "      <th>issue_d</th>\n",
       "      <th>dti</th>\n",
       "      <th>revol_bal</th>\n",
       "      <th>total_pymnt</th>\n",
       "    </tr>\n",
       "  </thead>\n",
       "  <tbody>\n",
       "    <tr>\n",
       "      <th>710884</th>\n",
       "      <td>6000.0</td>\n",
       "      <td>6000.0</td>\n",
       "      <td>36 months</td>\n",
       "      <td>12.69</td>\n",
       "      <td>C</td>\n",
       "      <td>99650.0</td>\n",
       "      <td>2015-06-01</td>\n",
       "      <td>30.96</td>\n",
       "      <td>70965.0</td>\n",
       "      <td>1404.66</td>\n",
       "    </tr>\n",
       "    <tr>\n",
       "      <th>703362</th>\n",
       "      <td>16000.0</td>\n",
       "      <td>16000.0</td>\n",
       "      <td>36 months</td>\n",
       "      <td>7.89</td>\n",
       "      <td>A</td>\n",
       "      <td>37500.0</td>\n",
       "      <td>2015-07-01</td>\n",
       "      <td>38.50</td>\n",
       "      <td>16985.0</td>\n",
       "      <td>2996.47</td>\n",
       "    </tr>\n",
       "    <tr>\n",
       "      <th>705666</th>\n",
       "      <td>10000.0</td>\n",
       "      <td>10000.0</td>\n",
       "      <td>36 months</td>\n",
       "      <td>12.69</td>\n",
       "      <td>C</td>\n",
       "      <td>43000.0</td>\n",
       "      <td>2015-07-01</td>\n",
       "      <td>13.90</td>\n",
       "      <td>11329.0</td>\n",
       "      <td>2005.65</td>\n",
       "    </tr>\n",
       "    <tr>\n",
       "      <th>84676</th>\n",
       "      <td>8000.0</td>\n",
       "      <td>8000.0</td>\n",
       "      <td>36 months</td>\n",
       "      <td>19.20</td>\n",
       "      <td>D</td>\n",
       "      <td>50000.0</td>\n",
       "      <td>2013-10-01</td>\n",
       "      <td>8.45</td>\n",
       "      <td>7566.0</td>\n",
       "      <td>7937.70</td>\n",
       "    </tr>\n",
       "    <tr>\n",
       "      <th>408645</th>\n",
       "      <td>16000.0</td>\n",
       "      <td>16000.0</td>\n",
       "      <td>36 months</td>\n",
       "      <td>12.49</td>\n",
       "      <td>B</td>\n",
       "      <td>104000.0</td>\n",
       "      <td>2014-04-01</td>\n",
       "      <td>13.44</td>\n",
       "      <td>19208.0</td>\n",
       "      <td>11238.99</td>\n",
       "    </tr>\n",
       "  </tbody>\n",
       "</table>\n",
       "</div>"
      ],
      "text/plain": [
       "        loan_amnt  funded_amnt        term  int_rate grade  annual_inc  \\\n",
       "710884     6000.0       6000.0   36 months     12.69     C     99650.0   \n",
       "703362    16000.0      16000.0   36 months      7.89     A     37500.0   \n",
       "705666    10000.0      10000.0   36 months     12.69     C     43000.0   \n",
       "84676      8000.0       8000.0   36 months     19.20     D     50000.0   \n",
       "408645    16000.0      16000.0   36 months     12.49     B    104000.0   \n",
       "\n",
       "          issue_d    dti  revol_bal  total_pymnt  \n",
       "710884 2015-06-01  30.96    70965.0      1404.66  \n",
       "703362 2015-07-01  38.50    16985.0      2996.47  \n",
       "705666 2015-07-01  13.90    11329.0      2005.65  \n",
       "84676  2013-10-01   8.45     7566.0      7937.70  \n",
       "408645 2014-04-01  13.44    19208.0     11238.99  "
      ]
     },
     "execution_count": 46,
     "metadata": {},
     "output_type": "execute_result"
    }
   ],
   "source": [
    "X.sample(5)"
   ]
  },
  {
   "cell_type": "code",
   "execution_count": 47,
   "metadata": {},
   "outputs": [],
   "source": [
    "X.drop(['term', 'issue_d'], axis = 1, inplace =True)"
   ]
  },
  {
   "cell_type": "code",
   "execution_count": 48,
   "metadata": {},
   "outputs": [
    {
     "data": {
      "text/html": [
       "<div>\n",
       "<style scoped>\n",
       "    .dataframe tbody tr th:only-of-type {\n",
       "        vertical-align: middle;\n",
       "    }\n",
       "\n",
       "    .dataframe tbody tr th {\n",
       "        vertical-align: top;\n",
       "    }\n",
       "\n",
       "    .dataframe thead th {\n",
       "        text-align: right;\n",
       "    }\n",
       "</style>\n",
       "<table border=\"1\" class=\"dataframe\">\n",
       "  <thead>\n",
       "    <tr style=\"text-align: right;\">\n",
       "      <th></th>\n",
       "      <th>loan_amnt</th>\n",
       "      <th>funded_amnt</th>\n",
       "      <th>int_rate</th>\n",
       "      <th>grade</th>\n",
       "      <th>annual_inc</th>\n",
       "      <th>dti</th>\n",
       "      <th>revol_bal</th>\n",
       "      <th>total_pymnt</th>\n",
       "    </tr>\n",
       "  </thead>\n",
       "  <tbody>\n",
       "    <tr>\n",
       "      <th>64084</th>\n",
       "      <td>6000.0</td>\n",
       "      <td>6000.0</td>\n",
       "      <td>8.90</td>\n",
       "      <td>A</td>\n",
       "      <td>60000.0</td>\n",
       "      <td>6.64</td>\n",
       "      <td>8691.0</td>\n",
       "      <td>6763.510002</td>\n",
       "    </tr>\n",
       "    <tr>\n",
       "      <th>226286</th>\n",
       "      <td>30000.0</td>\n",
       "      <td>30000.0</td>\n",
       "      <td>7.62</td>\n",
       "      <td>A</td>\n",
       "      <td>90000.0</td>\n",
       "      <td>0.66</td>\n",
       "      <td>4536.0</td>\n",
       "      <td>33201.883688</td>\n",
       "    </tr>\n",
       "    <tr>\n",
       "      <th>477501</th>\n",
       "      <td>24000.0</td>\n",
       "      <td>24000.0</td>\n",
       "      <td>6.89</td>\n",
       "      <td>A</td>\n",
       "      <td>120000.0</td>\n",
       "      <td>22.67</td>\n",
       "      <td>38405.0</td>\n",
       "      <td>0.000000</td>\n",
       "    </tr>\n",
       "    <tr>\n",
       "      <th>397187</th>\n",
       "      <td>18000.0</td>\n",
       "      <td>18000.0</td>\n",
       "      <td>8.90</td>\n",
       "      <td>A</td>\n",
       "      <td>64000.0</td>\n",
       "      <td>16.18</td>\n",
       "      <td>20886.0</td>\n",
       "      <td>19391.470000</td>\n",
       "    </tr>\n",
       "    <tr>\n",
       "      <th>312054</th>\n",
       "      <td>24925.0</td>\n",
       "      <td>24925.0</td>\n",
       "      <td>26.06</td>\n",
       "      <td>G</td>\n",
       "      <td>60000.0</td>\n",
       "      <td>33.72</td>\n",
       "      <td>56586.0</td>\n",
       "      <td>31888.330000</td>\n",
       "    </tr>\n",
       "  </tbody>\n",
       "</table>\n",
       "</div>"
      ],
      "text/plain": [
       "        loan_amnt  funded_amnt  int_rate grade  annual_inc    dti  revol_bal  \\\n",
       "64084      6000.0       6000.0      8.90     A     60000.0   6.64     8691.0   \n",
       "226286    30000.0      30000.0      7.62     A     90000.0   0.66     4536.0   \n",
       "477501    24000.0      24000.0      6.89     A    120000.0  22.67    38405.0   \n",
       "397187    18000.0      18000.0      8.90     A     64000.0  16.18    20886.0   \n",
       "312054    24925.0      24925.0     26.06     G     60000.0  33.72    56586.0   \n",
       "\n",
       "         total_pymnt  \n",
       "64084    6763.510002  \n",
       "226286  33201.883688  \n",
       "477501      0.000000  \n",
       "397187  19391.470000  \n",
       "312054  31888.330000  "
      ]
     },
     "execution_count": 48,
     "metadata": {},
     "output_type": "execute_result"
    }
   ],
   "source": [
    "X.sample(5)"
   ]
  },
  {
   "cell_type": "code",
   "execution_count": 49,
   "metadata": {},
   "outputs": [
    {
     "data": {
      "text/plain": [
       "(621121, 8)"
      ]
     },
     "execution_count": 49,
     "metadata": {},
     "output_type": "execute_result"
    }
   ],
   "source": [
    "X.shape"
   ]
  },
  {
   "cell_type": "markdown",
   "metadata": {},
   "source": [
    "#### 4. OneHotEncoding Categorical Variables"
   ]
  },
  {
   "cell_type": "code",
   "execution_count": 50,
   "metadata": {},
   "outputs": [],
   "source": [
    "X_one_hot = pd.get_dummies(X)"
   ]
  },
  {
   "cell_type": "markdown",
   "metadata": {},
   "source": [
    "#### 5. Test Train Split: IID assumption "
   ]
  },
  {
   "cell_type": "code",
   "execution_count": 51,
   "metadata": {},
   "outputs": [],
   "source": [
    "X_train, X_test, y_train, y_test = train_test_split(X_one_hot, y, test_size = 0.33)"
   ]
  },
  {
   "cell_type": "markdown",
   "metadata": {},
   "source": [
    "#### 6. Fit Logistic Regression Mode\n",
    "\n",
    "* *penalty = l2* is default, it makes logistic less prone to overfitting (It's basically the ridge penalty)\n",
    "\n",
    "* *C = 1* is the default hyperparameter value which is used to tune Logistic Regression\n",
    "\n",
    "* *class_weight = balanced* mode uses the values of y to automatically adjust weights inversely proportional to class frequencies in the input data as n_samples / (n_classes * np.bincount(y)). \n",
    "**(We use this is because we have an imbalanced dataset)**\n",
    "\n",
    "* *max_iter* used with solver == ‘sag’ (we need to vary the number of iterations to allow the to function to converge\n",
    "\n",
    "* *solver = 'sag'* corresponds to Stochastic Average Gradient and makes computation faster for large datasets such as this one\n",
    "\n",
    "* *random_state* used with solver == ‘sag’ (since we're doing stochastic optimization)\n",
    "\n",
    "Source: https://scikit-learn.org/stable/modules/generated/sklearn.linear_model.LogisticRegression.html"
   ]
  },
  {
   "cell_type": "code",
   "execution_count": 52,
   "metadata": {},
   "outputs": [
    {
     "name": "stderr",
     "output_type": "stream",
     "text": [
      "/Users/pranjalbajaj/anaconda3/lib/python3.7/site-packages/sklearn/linear_model/sag.py:334: ConvergenceWarning: The max_iter was reached which means the coef_ did not converge\n",
      "  \"the coef_ did not converge\", ConvergenceWarning)\n"
     ]
    },
    {
     "data": {
      "text/plain": [
       "LogisticRegression(C=1, class_weight='balanced', dual=False,\n",
       "          fit_intercept=True, intercept_scaling=1, max_iter=100,\n",
       "          multi_class='warn', n_jobs=None, penalty='l2', random_state=4896,\n",
       "          solver='sag', tol=0.0001, verbose=0, warm_start=False)"
      ]
     },
     "execution_count": 52,
     "metadata": {},
     "output_type": "execute_result"
    }
   ],
   "source": [
    "lr = LogisticRegression(penalty = 'l2', \n",
    "                        C = 1, \n",
    "                        class_weight = 'balanced', \n",
    "                        solver = 'sag', \n",
    "                        max_iter = 100, \n",
    "                        random_state = 4896) \n",
    "lr.fit(X_train, y_train)"
   ]
  },
  {
   "cell_type": "code",
   "execution_count": 53,
   "metadata": {},
   "outputs": [],
   "source": [
    "y_pred = lr.predict(X_train)"
   ]
  },
  {
   "cell_type": "code",
   "execution_count": 54,
   "metadata": {},
   "outputs": [
    {
     "name": "stdout",
     "output_type": "stream",
     "text": [
      "Score on Train set (only)\n",
      "Accuracy score: 0.93\n",
      "F1 score: 0.95\n",
      "ROC AUC score: 0.95\n"
     ]
    }
   ],
   "source": [
    "# Evaluate model performance over these three metrics\n",
    "print(\"Score on Train set (only)\")\n",
    "print(\"Accuracy score: {:.2f}\".format(accuracy_score(y_train, y_pred)))\n",
    "print(\"F1 score: {:.2f}\".format(f1_score(y_train, y_pred)))\n",
    "print(\"ROC AUC score: {:.2f}\".format(roc_auc_score(y_train, y_pred)))"
   ]
  },
  {
   "cell_type": "code",
   "execution_count": 55,
   "metadata": {},
   "outputs": [
    {
     "name": "stdout",
     "output_type": "stream",
     "text": [
      "True Negatives: 111952\n",
      "False Negatives: 28934\n",
      "True Positives: 274892\n",
      "False Positives: 373\n"
     ]
    }
   ],
   "source": [
    "cm = confusion_matrix(y_train, y_pred)\n",
    "print(\"True Negatives:\", cm[0][0])\n",
    "print(\"False Negatives:\", cm[1][0])\n",
    "print(\"True Positives:\", cm[1][1])\n",
    "print(\"False Positives:\", cm[0][1])"
   ]
  },
  {
   "cell_type": "markdown",
   "metadata": {},
   "source": [
    "* Our False Positive rare seems fine.\n",
    "* However, we seem to have quite a bit of False nagatives in our case, which is **NOT GOOD**"
   ]
  },
  {
   "cell_type": "markdown",
   "metadata": {},
   "source": [
    "* **Try scaling the numerical data to see if scores improve**"
   ]
  },
  {
   "cell_type": "code",
   "execution_count": 56,
   "metadata": {},
   "outputs": [],
   "source": [
    "# Save continuous columns separately\n",
    "X_train_cont = X_train.select_dtypes(include = [\"float64\"]).reset_index(drop = True)\n",
    "X_test_cont = X_test.select_dtypes(include = [\"float64\"]).reset_index(drop = True)"
   ]
  },
  {
   "cell_type": "code",
   "execution_count": 57,
   "metadata": {},
   "outputs": [],
   "source": [
    "# Save continuous column names \n",
    "train_cont = list(X_train_cont)\n",
    "test_cont = list(X_test_cont)"
   ]
  },
  {
   "cell_type": "code",
   "execution_count": 58,
   "metadata": {},
   "outputs": [
    {
     "data": {
      "text/plain": [
       "StandardScaler(copy=True, with_mean=True, with_std=True)"
      ]
     },
     "execution_count": 58,
     "metadata": {},
     "output_type": "execute_result"
    }
   ],
   "source": [
    "# Fit on X_train\n",
    "scale = StandardScaler()\n",
    "scale.fit(X_train_cont)"
   ]
  },
  {
   "cell_type": "code",
   "execution_count": 59,
   "metadata": {},
   "outputs": [],
   "source": [
    "# Save categorical columns separately\n",
    "X_train_cat = X_train.select_dtypes(exclude = [\"float64\"]).reset_index(drop = True)\n",
    "X_test_cat = X_test.select_dtypes(exclude = [\"float64\"]).reset_index(drop = True)"
   ]
  },
  {
   "cell_type": "code",
   "execution_count": 60,
   "metadata": {},
   "outputs": [],
   "source": [
    "# Transform using X_train\n",
    "X_train_scaled = scale.transform(X_train_cont)\n",
    "\n",
    "# Transform using X_train to avoid information leakage\n",
    "X_test_scaled = scale.transform(X_test_cont)"
   ]
  },
  {
   "cell_type": "code",
   "execution_count": 61,
   "metadata": {},
   "outputs": [],
   "source": [
    "# Convert to Pandas Dataframe\n",
    "X_train_scaled = pd.DataFrame(X_train_scaled, columns = train_cont).reset_index(drop = True)\n",
    "X_test_scaled = pd.DataFrame(X_test_scaled, columns = test_cont).reset_index(drop = True)"
   ]
  },
  {
   "cell_type": "code",
   "execution_count": 62,
   "metadata": {},
   "outputs": [
    {
     "data": {
      "text/html": [
       "<div>\n",
       "<style scoped>\n",
       "    .dataframe tbody tr th:only-of-type {\n",
       "        vertical-align: middle;\n",
       "    }\n",
       "\n",
       "    .dataframe tbody tr th {\n",
       "        vertical-align: top;\n",
       "    }\n",
       "\n",
       "    .dataframe thead th {\n",
       "        text-align: right;\n",
       "    }\n",
       "</style>\n",
       "<table border=\"1\" class=\"dataframe\">\n",
       "  <thead>\n",
       "    <tr style=\"text-align: right;\">\n",
       "      <th></th>\n",
       "      <th>loan_amnt</th>\n",
       "      <th>funded_amnt</th>\n",
       "      <th>int_rate</th>\n",
       "      <th>annual_inc</th>\n",
       "      <th>dti</th>\n",
       "      <th>revol_bal</th>\n",
       "      <th>total_pymnt</th>\n",
       "    </tr>\n",
       "  </thead>\n",
       "  <tbody>\n",
       "    <tr>\n",
       "      <th>0</th>\n",
       "      <td>1.610232</td>\n",
       "      <td>1.611412</td>\n",
       "      <td>0.301029</td>\n",
       "      <td>-0.194231</td>\n",
       "      <td>-0.079529</td>\n",
       "      <td>-0.146563</td>\n",
       "      <td>-0.977086</td>\n",
       "    </tr>\n",
       "    <tr>\n",
       "      <th>1</th>\n",
       "      <td>-0.318240</td>\n",
       "      <td>-0.317454</td>\n",
       "      <td>1.616361</td>\n",
       "      <td>-0.318910</td>\n",
       "      <td>0.156310</td>\n",
       "      <td>-0.167930</td>\n",
       "      <td>0.341735</td>\n",
       "    </tr>\n",
       "    <tr>\n",
       "      <th>2</th>\n",
       "      <td>-1.089629</td>\n",
       "      <td>-1.089000</td>\n",
       "      <td>0.070133</td>\n",
       "      <td>-0.537097</td>\n",
       "      <td>0.254576</td>\n",
       "      <td>-0.373046</td>\n",
       "      <td>-0.922579</td>\n",
       "    </tr>\n",
       "    <tr>\n",
       "      <th>3</th>\n",
       "      <td>-0.832499</td>\n",
       "      <td>-0.831818</td>\n",
       "      <td>-0.267132</td>\n",
       "      <td>0.012097</td>\n",
       "      <td>0.533993</td>\n",
       "      <td>0.776527</td>\n",
       "      <td>-0.708784</td>\n",
       "    </tr>\n",
       "    <tr>\n",
       "      <th>4</th>\n",
       "      <td>1.555591</td>\n",
       "      <td>1.556761</td>\n",
       "      <td>-0.809350</td>\n",
       "      <td>-0.272155</td>\n",
       "      <td>-0.427732</td>\n",
       "      <td>0.142902</td>\n",
       "      <td>2.124878</td>\n",
       "    </tr>\n",
       "  </tbody>\n",
       "</table>\n",
       "</div>"
      ],
      "text/plain": [
       "   loan_amnt  funded_amnt  int_rate  annual_inc       dti  revol_bal  \\\n",
       "0   1.610232     1.611412  0.301029   -0.194231 -0.079529  -0.146563   \n",
       "1  -0.318240    -0.317454  1.616361   -0.318910  0.156310  -0.167930   \n",
       "2  -1.089629    -1.089000  0.070133   -0.537097  0.254576  -0.373046   \n",
       "3  -0.832499    -0.831818 -0.267132    0.012097  0.533993   0.776527   \n",
       "4   1.555591     1.556761 -0.809350   -0.272155 -0.427732   0.142902   \n",
       "\n",
       "   total_pymnt  \n",
       "0    -0.977086  \n",
       "1     0.341735  \n",
       "2    -0.922579  \n",
       "3    -0.708784  \n",
       "4     2.124878  "
      ]
     },
     "execution_count": 62,
     "metadata": {},
     "output_type": "execute_result"
    }
   ],
   "source": [
    "# Check\n",
    "X_train_scaled.head()"
   ]
  },
  {
   "cell_type": "code",
   "execution_count": 63,
   "metadata": {},
   "outputs": [
    {
     "name": "stdout",
     "output_type": "stream",
     "text": [
      "(204970, 7)\n",
      "(416151, 7)\n"
     ]
    }
   ],
   "source": [
    "# Check\n",
    "print(X_test_scaled.shape)\n",
    "# Check\n",
    "print(X_train_scaled.shape)"
   ]
  },
  {
   "cell_type": "code",
   "execution_count": 64,
   "metadata": {},
   "outputs": [],
   "source": [
    "X_train_scaled = pd.concat([X_train_scaled, X_train_cat], axis = 1, join = \"inner\").reset_index(drop = True)"
   ]
  },
  {
   "cell_type": "code",
   "execution_count": 65,
   "metadata": {},
   "outputs": [],
   "source": [
    "X_test_scaled = pd.concat([X_test_scaled, X_test_cat], axis = 1, join = \"inner\").reset_index(drop = True)"
   ]
  },
  {
   "cell_type": "code",
   "execution_count": 66,
   "metadata": {},
   "outputs": [
    {
     "name": "stdout",
     "output_type": "stream",
     "text": [
      "(204970, 14)\n",
      "(416151, 14)\n"
     ]
    }
   ],
   "source": [
    "# Check\n",
    "print(X_test_scaled.shape)\n",
    "# Check\n",
    "print(X_train_scaled.shape)"
   ]
  },
  {
   "cell_type": "code",
   "execution_count": 67,
   "metadata": {},
   "outputs": [
    {
     "data": {
      "text/html": [
       "<div>\n",
       "<style scoped>\n",
       "    .dataframe tbody tr th:only-of-type {\n",
       "        vertical-align: middle;\n",
       "    }\n",
       "\n",
       "    .dataframe tbody tr th {\n",
       "        vertical-align: top;\n",
       "    }\n",
       "\n",
       "    .dataframe thead th {\n",
       "        text-align: right;\n",
       "    }\n",
       "</style>\n",
       "<table border=\"1\" class=\"dataframe\">\n",
       "  <thead>\n",
       "    <tr style=\"text-align: right;\">\n",
       "      <th></th>\n",
       "      <th>grade_A</th>\n",
       "      <th>grade_B</th>\n",
       "      <th>grade_C</th>\n",
       "      <th>grade_D</th>\n",
       "      <th>grade_E</th>\n",
       "      <th>grade_F</th>\n",
       "      <th>grade_G</th>\n",
       "    </tr>\n",
       "  </thead>\n",
       "  <tbody>\n",
       "    <tr>\n",
       "      <th>0</th>\n",
       "      <td>0</td>\n",
       "      <td>0</td>\n",
       "      <td>1</td>\n",
       "      <td>0</td>\n",
       "      <td>0</td>\n",
       "      <td>0</td>\n",
       "      <td>0</td>\n",
       "    </tr>\n",
       "    <tr>\n",
       "      <th>1</th>\n",
       "      <td>0</td>\n",
       "      <td>0</td>\n",
       "      <td>0</td>\n",
       "      <td>1</td>\n",
       "      <td>0</td>\n",
       "      <td>0</td>\n",
       "      <td>0</td>\n",
       "    </tr>\n",
       "    <tr>\n",
       "      <th>2</th>\n",
       "      <td>0</td>\n",
       "      <td>0</td>\n",
       "      <td>1</td>\n",
       "      <td>0</td>\n",
       "      <td>0</td>\n",
       "      <td>0</td>\n",
       "      <td>0</td>\n",
       "    </tr>\n",
       "    <tr>\n",
       "      <th>3</th>\n",
       "      <td>0</td>\n",
       "      <td>1</td>\n",
       "      <td>0</td>\n",
       "      <td>0</td>\n",
       "      <td>0</td>\n",
       "      <td>0</td>\n",
       "      <td>0</td>\n",
       "    </tr>\n",
       "    <tr>\n",
       "      <th>4</th>\n",
       "      <td>1</td>\n",
       "      <td>0</td>\n",
       "      <td>0</td>\n",
       "      <td>0</td>\n",
       "      <td>0</td>\n",
       "      <td>0</td>\n",
       "      <td>0</td>\n",
       "    </tr>\n",
       "  </tbody>\n",
       "</table>\n",
       "</div>"
      ],
      "text/plain": [
       "   grade_A  grade_B  grade_C  grade_D  grade_E  grade_F  grade_G\n",
       "0        0        0        1        0        0        0        0\n",
       "1        0        0        0        1        0        0        0\n",
       "2        0        0        1        0        0        0        0\n",
       "3        0        1        0        0        0        0        0\n",
       "4        1        0        0        0        0        0        0"
      ]
     },
     "execution_count": 67,
     "metadata": {},
     "output_type": "execute_result"
    }
   ],
   "source": [
    "# Check\n",
    "X_train_cat.head()"
   ]
  },
  {
   "cell_type": "code",
   "execution_count": 68,
   "metadata": {},
   "outputs": [
    {
     "data": {
      "text/html": [
       "<div>\n",
       "<style scoped>\n",
       "    .dataframe tbody tr th:only-of-type {\n",
       "        vertical-align: middle;\n",
       "    }\n",
       "\n",
       "    .dataframe tbody tr th {\n",
       "        vertical-align: top;\n",
       "    }\n",
       "\n",
       "    .dataframe thead th {\n",
       "        text-align: right;\n",
       "    }\n",
       "</style>\n",
       "<table border=\"1\" class=\"dataframe\">\n",
       "  <thead>\n",
       "    <tr style=\"text-align: right;\">\n",
       "      <th></th>\n",
       "      <th>loan_amnt</th>\n",
       "      <th>funded_amnt</th>\n",
       "      <th>int_rate</th>\n",
       "      <th>annual_inc</th>\n",
       "      <th>dti</th>\n",
       "      <th>revol_bal</th>\n",
       "      <th>total_pymnt</th>\n",
       "      <th>grade_A</th>\n",
       "      <th>grade_B</th>\n",
       "      <th>grade_C</th>\n",
       "      <th>grade_D</th>\n",
       "      <th>grade_E</th>\n",
       "      <th>grade_F</th>\n",
       "      <th>grade_G</th>\n",
       "    </tr>\n",
       "  </thead>\n",
       "  <tbody>\n",
       "    <tr>\n",
       "      <th>0</th>\n",
       "      <td>1.610232</td>\n",
       "      <td>1.611412</td>\n",
       "      <td>0.301029</td>\n",
       "      <td>-0.194231</td>\n",
       "      <td>-0.079529</td>\n",
       "      <td>-0.146563</td>\n",
       "      <td>-0.977086</td>\n",
       "      <td>0</td>\n",
       "      <td>0</td>\n",
       "      <td>1</td>\n",
       "      <td>0</td>\n",
       "      <td>0</td>\n",
       "      <td>0</td>\n",
       "      <td>0</td>\n",
       "    </tr>\n",
       "    <tr>\n",
       "      <th>1</th>\n",
       "      <td>-0.318240</td>\n",
       "      <td>-0.317454</td>\n",
       "      <td>1.616361</td>\n",
       "      <td>-0.318910</td>\n",
       "      <td>0.156310</td>\n",
       "      <td>-0.167930</td>\n",
       "      <td>0.341735</td>\n",
       "      <td>0</td>\n",
       "      <td>0</td>\n",
       "      <td>0</td>\n",
       "      <td>1</td>\n",
       "      <td>0</td>\n",
       "      <td>0</td>\n",
       "      <td>0</td>\n",
       "    </tr>\n",
       "    <tr>\n",
       "      <th>2</th>\n",
       "      <td>-1.089629</td>\n",
       "      <td>-1.089000</td>\n",
       "      <td>0.070133</td>\n",
       "      <td>-0.537097</td>\n",
       "      <td>0.254576</td>\n",
       "      <td>-0.373046</td>\n",
       "      <td>-0.922579</td>\n",
       "      <td>0</td>\n",
       "      <td>0</td>\n",
       "      <td>1</td>\n",
       "      <td>0</td>\n",
       "      <td>0</td>\n",
       "      <td>0</td>\n",
       "      <td>0</td>\n",
       "    </tr>\n",
       "    <tr>\n",
       "      <th>3</th>\n",
       "      <td>-0.832499</td>\n",
       "      <td>-0.831818</td>\n",
       "      <td>-0.267132</td>\n",
       "      <td>0.012097</td>\n",
       "      <td>0.533993</td>\n",
       "      <td>0.776527</td>\n",
       "      <td>-0.708784</td>\n",
       "      <td>0</td>\n",
       "      <td>1</td>\n",
       "      <td>0</td>\n",
       "      <td>0</td>\n",
       "      <td>0</td>\n",
       "      <td>0</td>\n",
       "      <td>0</td>\n",
       "    </tr>\n",
       "    <tr>\n",
       "      <th>4</th>\n",
       "      <td>1.555591</td>\n",
       "      <td>1.556761</td>\n",
       "      <td>-0.809350</td>\n",
       "      <td>-0.272155</td>\n",
       "      <td>-0.427732</td>\n",
       "      <td>0.142902</td>\n",
       "      <td>2.124878</td>\n",
       "      <td>1</td>\n",
       "      <td>0</td>\n",
       "      <td>0</td>\n",
       "      <td>0</td>\n",
       "      <td>0</td>\n",
       "      <td>0</td>\n",
       "      <td>0</td>\n",
       "    </tr>\n",
       "  </tbody>\n",
       "</table>\n",
       "</div>"
      ],
      "text/plain": [
       "   loan_amnt  funded_amnt  int_rate  annual_inc       dti  revol_bal  \\\n",
       "0   1.610232     1.611412  0.301029   -0.194231 -0.079529  -0.146563   \n",
       "1  -0.318240    -0.317454  1.616361   -0.318910  0.156310  -0.167930   \n",
       "2  -1.089629    -1.089000  0.070133   -0.537097  0.254576  -0.373046   \n",
       "3  -0.832499    -0.831818 -0.267132    0.012097  0.533993   0.776527   \n",
       "4   1.555591     1.556761 -0.809350   -0.272155 -0.427732   0.142902   \n",
       "\n",
       "   total_pymnt  grade_A  grade_B  grade_C  grade_D  grade_E  grade_F  grade_G  \n",
       "0    -0.977086        0        0        1        0        0        0        0  \n",
       "1     0.341735        0        0        0        1        0        0        0  \n",
       "2    -0.922579        0        0        1        0        0        0        0  \n",
       "3    -0.708784        0        1        0        0        0        0        0  \n",
       "4     2.124878        1        0        0        0        0        0        0  "
      ]
     },
     "execution_count": 68,
     "metadata": {},
     "output_type": "execute_result"
    }
   ],
   "source": [
    "# Check\n",
    "X_train_scaled.head()"
   ]
  },
  {
   "cell_type": "markdown",
   "metadata": {},
   "source": [
    "* **Fit model on scaled Training Data**"
   ]
  },
  {
   "cell_type": "code",
   "execution_count": 69,
   "metadata": {},
   "outputs": [
    {
     "name": "stderr",
     "output_type": "stream",
     "text": [
      "/Users/pranjalbajaj/anaconda3/lib/python3.7/site-packages/sklearn/linear_model/sag.py:334: ConvergenceWarning: The max_iter was reached which means the coef_ did not converge\n",
      "  \"the coef_ did not converge\", ConvergenceWarning)\n"
     ]
    },
    {
     "data": {
      "text/plain": [
       "LogisticRegression(C=1, class_weight='balanced', dual=False,\n",
       "          fit_intercept=True, intercept_scaling=1, max_iter=100,\n",
       "          multi_class='warn', n_jobs=None, penalty='l2', random_state=4896,\n",
       "          solver='sag', tol=0.0001, verbose=0, warm_start=False)"
      ]
     },
     "execution_count": 69,
     "metadata": {},
     "output_type": "execute_result"
    }
   ],
   "source": [
    "lr.fit(X_train_scaled, y_train)"
   ]
  },
  {
   "cell_type": "code",
   "execution_count": 70,
   "metadata": {},
   "outputs": [],
   "source": [
    "y_pred = lr.predict(X_train_scaled)"
   ]
  },
  {
   "cell_type": "code",
   "execution_count": 71,
   "metadata": {},
   "outputs": [
    {
     "name": "stdout",
     "output_type": "stream",
     "text": [
      "Score on Train set (only)\n",
      "Accuracy score: 0.94\n",
      "F1 score: 0.96\n",
      "ROC AUC score: 0.96\n"
     ]
    }
   ],
   "source": [
    "# Evaluate model performance over these three metrics\n",
    "print(\"Score on Train set (only)\")\n",
    "print(\"Accuracy score: {:.2f}\".format(accuracy_score(y_train, y_pred)))\n",
    "print(\"F1 score: {:.2f}\".format(f1_score(y_train, y_pred)))\n",
    "print(\"ROC AUC score: {:.2f}\".format(roc_auc_score(y_train, y_pred)))"
   ]
  },
  {
   "cell_type": "code",
   "execution_count": 72,
   "metadata": {},
   "outputs": [
    {
     "name": "stdout",
     "output_type": "stream",
     "text": [
      "True Negatives: 111903\n",
      "False Negatives: 24096\n",
      "True Positives: 279730\n",
      "False Positives: 422\n"
     ]
    }
   ],
   "source": [
    "cm = confusion_matrix(y_train, y_pred)\n",
    "print(\"True Negatives:\", cm[0][0])\n",
    "print(\"False Negatives:\", cm[1][0])\n",
    "print(\"True Positives:\", cm[1][1])\n",
    "print(\"False Positives:\", cm[0][1])"
   ]
  },
  {
   "cell_type": "markdown",
   "metadata": {},
   "source": [
    "#### Scaling significantly improved performance \n",
    "* Number of False Negatives fell by roughly 7000\n",
    "* However, the Number for False Positives rose by 300"
   ]
  },
  {
   "cell_type": "markdown",
   "metadata": {},
   "source": [
    "* **Look at feature importances**"
   ]
  },
  {
   "cell_type": "code",
   "execution_count": 73,
   "metadata": {},
   "outputs": [
    {
     "data": {
      "image/png": "[encoded data removed]",
      "text/plain": [
       "<Figure size 432x288 with 1 Axes>"
      ]
     },
     "metadata": {},
     "output_type": "display_data"
    }
   ],
   "source": [
    "n_features =  X_train_scaled.shape[1]\n",
    "coefs_lr = lr.coef_[0]\n",
    "plt.barh(range(n_features), coefs_lr, align='center') \n",
    "plt.yticks(np.arange(n_features), list(X_train_scaled.columns.values)) \n",
    "plt.xlabel(\"Feature importance\")\n",
    "plt.ylabel(\"Feature\")\n",
    "plt.ylim(-1, n_features)\n",
    "plt.show()"
   ]
  },
  {
   "cell_type": "markdown",
   "metadata": {},
   "source": [
    "#### 7. Tune Parameters to optimize model performance: On Scaled Data\n",
    "* Perform Grid-search on Sampled data to save time"
   ]
  },
  {
   "cell_type": "code",
   "execution_count": 74,
   "metadata": {},
   "outputs": [],
   "source": [
    "# Cross-validation strategy: shuffles the date\n",
    "cv = StratifiedShuffleSplit(n_splits = 5, random_state= 4896)"
   ]
  },
  {
   "cell_type": "code",
   "execution_count": 77,
   "metadata": {},
   "outputs": [],
   "source": [
    "pipe_lr = make_pipeline(LogisticRegression(penalty = 'l2', class_weight = 'balanced', solver = 'sag', max_iter = 100, \n",
    "                        random_state = 4896))\n",
    "param_grid_lr = [{'logisticregression__C':np.logspace(-3, 0, 5)}] \n",
    "grid_lr = GridSearchCV(pipe_lr, param_grid_lr, scoring = 'roc_auc', cv = cv)"
   ]
  },
  {
   "cell_type": "code",
   "execution_count": 78,
   "metadata": {},
   "outputs": [
    {
     "name": "stderr",
     "output_type": "stream",
     "text": [
      "/Users/pranjalbajaj/anaconda3/lib/python3.7/site-packages/sklearn/linear_model/sag.py:334: ConvergenceWarning: The max_iter was reached which means the coef_ did not converge\n",
      "  \"the coef_ did not converge\", ConvergenceWarning)\n",
      "/Users/pranjalbajaj/anaconda3/lib/python3.7/site-packages/sklearn/linear_model/sag.py:334: ConvergenceWarning: The max_iter was reached which means the coef_ did not converge\n",
      "  \"the coef_ did not converge\", ConvergenceWarning)\n",
      "/Users/pranjalbajaj/anaconda3/lib/python3.7/site-packages/sklearn/linear_model/sag.py:334: ConvergenceWarning: The max_iter was reached which means the coef_ did not converge\n",
      "  \"the coef_ did not converge\", ConvergenceWarning)\n",
      "/Users/pranjalbajaj/anaconda3/lib/python3.7/site-packages/sklearn/linear_model/sag.py:334: ConvergenceWarning: The max_iter was reached which means the coef_ did not converge\n",
      "  \"the coef_ did not converge\", ConvergenceWarning)\n",
      "/Users/pranjalbajaj/anaconda3/lib/python3.7/site-packages/sklearn/linear_model/sag.py:334: ConvergenceWarning: The max_iter was reached which means the coef_ did not converge\n",
      "  \"the coef_ did not converge\", ConvergenceWarning)\n",
      "/Users/pranjalbajaj/anaconda3/lib/python3.7/site-packages/sklearn/linear_model/sag.py:334: ConvergenceWarning: The max_iter was reached which means the coef_ did not converge\n",
      "  \"the coef_ did not converge\", ConvergenceWarning)\n",
      "/Users/pranjalbajaj/anaconda3/lib/python3.7/site-packages/sklearn/linear_model/sag.py:334: ConvergenceWarning: The max_iter was reached which means the coef_ did not converge\n",
      "  \"the coef_ did not converge\", ConvergenceWarning)\n",
      "/Users/pranjalbajaj/anaconda3/lib/python3.7/site-packages/sklearn/linear_model/sag.py:334: ConvergenceWarning: The max_iter was reached which means the coef_ did not converge\n",
      "  \"the coef_ did not converge\", ConvergenceWarning)\n",
      "/Users/pranjalbajaj/anaconda3/lib/python3.7/site-packages/sklearn/linear_model/sag.py:334: ConvergenceWarning: The max_iter was reached which means the coef_ did not converge\n",
      "  \"the coef_ did not converge\", ConvergenceWarning)\n",
      "/Users/pranjalbajaj/anaconda3/lib/python3.7/site-packages/sklearn/linear_model/sag.py:334: ConvergenceWarning: The max_iter was reached which means the coef_ did not converge\n",
      "  \"the coef_ did not converge\", ConvergenceWarning)\n",
      "/Users/pranjalbajaj/anaconda3/lib/python3.7/site-packages/sklearn/linear_model/sag.py:334: ConvergenceWarning: The max_iter was reached which means the coef_ did not converge\n",
      "  \"the coef_ did not converge\", ConvergenceWarning)\n",
      "/Users/pranjalbajaj/anaconda3/lib/python3.7/site-packages/sklearn/linear_model/sag.py:334: ConvergenceWarning: The max_iter was reached which means the coef_ did not converge\n",
      "  \"the coef_ did not converge\", ConvergenceWarning)\n",
      "/Users/pranjalbajaj/anaconda3/lib/python3.7/site-packages/sklearn/linear_model/sag.py:334: ConvergenceWarning: The max_iter was reached which means the coef_ did not converge\n",
      "  \"the coef_ did not converge\", ConvergenceWarning)\n",
      "/Users/pranjalbajaj/anaconda3/lib/python3.7/site-packages/sklearn/linear_model/sag.py:334: ConvergenceWarning: The max_iter was reached which means the coef_ did not converge\n",
      "  \"the coef_ did not converge\", ConvergenceWarning)\n",
      "/Users/pranjalbajaj/anaconda3/lib/python3.7/site-packages/sklearn/linear_model/sag.py:334: ConvergenceWarning: The max_iter was reached which means the coef_ did not converge\n",
      "  \"the coef_ did not converge\", ConvergenceWarning)\n",
      "/Users/pranjalbajaj/anaconda3/lib/python3.7/site-packages/sklearn/linear_model/sag.py:334: ConvergenceWarning: The max_iter was reached which means the coef_ did not converge\n",
      "  \"the coef_ did not converge\", ConvergenceWarning)\n",
      "/Users/pranjalbajaj/anaconda3/lib/python3.7/site-packages/sklearn/linear_model/sag.py:334: ConvergenceWarning: The max_iter was reached which means the coef_ did not converge\n",
      "  \"the coef_ did not converge\", ConvergenceWarning)\n",
      "/Users/pranjalbajaj/anaconda3/lib/python3.7/site-packages/sklearn/linear_model/sag.py:334: ConvergenceWarning: The max_iter was reached which means the coef_ did not converge\n",
      "  \"the coef_ did not converge\", ConvergenceWarning)\n",
      "/Users/pranjalbajaj/anaconda3/lib/python3.7/site-packages/sklearn/linear_model/sag.py:334: ConvergenceWarning: The max_iter was reached which means the coef_ did not converge\n",
      "  \"the coef_ did not converge\", ConvergenceWarning)\n",
      "/Users/pranjalbajaj/anaconda3/lib/python3.7/site-packages/sklearn/linear_model/sag.py:334: ConvergenceWarning: The max_iter was reached which means the coef_ did not converge\n",
      "  \"the coef_ did not converge\", ConvergenceWarning)\n",
      "/Users/pranjalbajaj/anaconda3/lib/python3.7/site-packages/sklearn/linear_model/sag.py:334: ConvergenceWarning: The max_iter was reached which means the coef_ did not converge\n",
      "  \"the coef_ did not converge\", ConvergenceWarning)\n",
      "/Users/pranjalbajaj/anaconda3/lib/python3.7/site-packages/sklearn/linear_model/sag.py:334: ConvergenceWarning: The max_iter was reached which means the coef_ did not converge\n",
      "  \"the coef_ did not converge\", ConvergenceWarning)\n",
      "/Users/pranjalbajaj/anaconda3/lib/python3.7/site-packages/sklearn/linear_model/sag.py:334: ConvergenceWarning: The max_iter was reached which means the coef_ did not converge\n",
      "  \"the coef_ did not converge\", ConvergenceWarning)\n",
      "/Users/pranjalbajaj/anaconda3/lib/python3.7/site-packages/sklearn/linear_model/sag.py:334: ConvergenceWarning: The max_iter was reached which means the coef_ did not converge\n",
      "  \"the coef_ did not converge\", ConvergenceWarning)\n",
      "/Users/pranjalbajaj/anaconda3/lib/python3.7/site-packages/sklearn/linear_model/sag.py:334: ConvergenceWarning: The max_iter was reached which means the coef_ did not converge\n",
      "  \"the coef_ did not converge\", ConvergenceWarning)\n",
      "/Users/pranjalbajaj/anaconda3/lib/python3.7/site-packages/sklearn/linear_model/sag.py:334: ConvergenceWarning: The max_iter was reached which means the coef_ did not converge\n",
      "  \"the coef_ did not converge\", ConvergenceWarning)\n"
     ]
    },
    {
     "data": {
      "text/plain": [
       "GridSearchCV(cv=StratifiedShuffleSplit(n_splits=5, random_state=4896, test_size='default',\n",
       "            train_size=None),\n",
       "       error_score='raise-deprecating',\n",
       "       estimator=Pipeline(memory=None,\n",
       "     steps=[('logisticregression', LogisticRegression(C=1.0, class_weight='balanced', dual=False,\n",
       "          fit_intercept=True, intercept_scaling=1, max_iter=100,\n",
       "          multi_class='warn', n_jobs=None, penalty='l2', random_state=4896,\n",
       "          solver='sag', tol=0.0001, verbose=0, warm_start=False))]),\n",
       "       fit_params=None, iid='warn', n_jobs=None,\n",
       "       param_grid=[{'logisticregression__C': array([0.001  , 0.00562, 0.03162, 0.17783, 1.     ])}],\n",
       "       pre_dispatch='2*n_jobs', refit=True, return_train_score='warn',\n",
       "       scoring='roc_auc', verbose=0)"
      ]
     },
     "execution_count": 78,
     "metadata": {},
     "output_type": "execute_result"
    }
   ],
   "source": [
    "grid_lr.fit(X_train_scaled, y_train)"
   ]
  },
  {
   "cell_type": "code",
   "execution_count": 79,
   "metadata": {},
   "outputs": [
    {
     "name": "stdout",
     "output_type": "stream",
     "text": [
      "Best Score 0.9811531963960071\n",
      "Best Parameters {'logisticregression__C': 1.0}\n"
     ]
    }
   ],
   "source": [
    "print(\"Best Score %s\" % grid_lr.best_score_)\n",
    "print(\"Best Parameters %s\" % grid_lr.best_params_)"
   ]
  },
  {
   "cell_type": "code",
   "execution_count": 80,
   "metadata": {},
   "outputs": [],
   "source": [
    "best_param = grid_lr.best_params_.get('logisticregression__C')"
   ]
  },
  {
   "cell_type": "markdown",
   "metadata": {},
   "source": [
    "#### Fit Best Parameter value "
   ]
  },
  {
   "cell_type": "code",
   "execution_count": 81,
   "metadata": {},
   "outputs": [
    {
     "name": "stderr",
     "output_type": "stream",
     "text": [
      "/Users/pranjalbajaj/anaconda3/lib/python3.7/site-packages/sklearn/linear_model/sag.py:334: ConvergenceWarning: The max_iter was reached which means the coef_ did not converge\n",
      "  \"the coef_ did not converge\", ConvergenceWarning)\n"
     ]
    },
    {
     "data": {
      "text/plain": [
       "LogisticRegression(C=1.0, class_weight='balanced', dual=False,\n",
       "          fit_intercept=True, intercept_scaling=1, max_iter=100,\n",
       "          multi_class='warn', n_jobs=None, penalty='l2', random_state=4896,\n",
       "          solver='sag', tol=0.0001, verbose=0, warm_start=False)"
      ]
     },
     "execution_count": 81,
     "metadata": {},
     "output_type": "execute_result"
    }
   ],
   "source": [
    "lr = LogisticRegression(penalty = 'l2', \n",
    "                        C = best_param, \n",
    "                        class_weight = 'balanced', \n",
    "                        solver = 'sag', \n",
    "                        max_iter = 100, \n",
    "                        random_state = 4896) \n",
    "lr.fit(X_train_scaled, y_train)"
   ]
  },
  {
   "cell_type": "code",
   "execution_count": 82,
   "metadata": {},
   "outputs": [],
   "source": [
    "y_pred = lr.predict(X_train_scaled)"
   ]
  },
  {
   "cell_type": "code",
   "execution_count": 83,
   "metadata": {},
   "outputs": [
    {
     "name": "stdout",
     "output_type": "stream",
     "text": [
      "Score on Train set (only)\n",
      "Accuracy score: 0.94\n",
      "F1 score: 0.96\n",
      "ROC AUC score: 0.96\n"
     ]
    }
   ],
   "source": [
    "# Evaluate model performance over these three metrics\n",
    "print(\"Score on Train set (only)\")\n",
    "print(\"Accuracy score: {:.2f}\".format(accuracy_score(y_train, y_pred)))\n",
    "print(\"F1 score: {:.2f}\".format(f1_score(y_train, y_pred)))\n",
    "print(\"ROC AUC score: {:.2f}\".format(roc_auc_score(y_train, y_pred)))"
   ]
  },
  {
   "cell_type": "code",
   "execution_count": 84,
   "metadata": {},
   "outputs": [
    {
     "name": "stdout",
     "output_type": "stream",
     "text": [
      "True Negatives: 111903\n",
      "False Negatives: 24096\n",
      "True Positives: 279730\n",
      "False Positives: 422\n"
     ]
    }
   ],
   "source": [
    "cm = confusion_matrix(y_train, y_pred)\n",
    "print(\"True Negatives:\", cm[0][0])\n",
    "print(\"False Negatives:\", cm[1][0])\n",
    "print(\"True Positives:\", cm[1][1])\n",
    "print(\"False Positives:\", cm[0][1])"
   ]
  },
  {
   "cell_type": "markdown",
   "metadata": {},
   "source": [
    "#### 8. Evaluating on Test Set and Check for overfitting"
   ]
  },
  {
   "cell_type": "code",
   "execution_count": 85,
   "metadata": {},
   "outputs": [],
   "source": [
    "y_pred = lr.predict(X_test_scaled)"
   ]
  },
  {
   "cell_type": "code",
   "execution_count": 86,
   "metadata": {},
   "outputs": [
    {
     "name": "stdout",
     "output_type": "stream",
     "text": [
      "Score on Test set\n",
      "Accuracy score: 0.94\n",
      "F1 score: 0.96\n",
      "ROC AUC score: 0.96\n"
     ]
    }
   ],
   "source": [
    "# Evaluate model performance over these three metrics\n",
    "print(\"Score on Test set\")\n",
    "print(\"Accuracy score: {:.2f}\".format(accuracy_score(y_test, y_pred)))\n",
    "print(\"F1 score: {:.2f}\".format(f1_score(y_test, y_pred)))\n",
    "print(\"ROC AUC score: {:.2f}\".format(roc_auc_score(y_test, y_pred)))"
   ]
  },
  {
   "cell_type": "code",
   "execution_count": 87,
   "metadata": {},
   "outputs": [
    {
     "name": "stdout",
     "output_type": "stream",
     "text": [
      "True Negatives: 55057\n",
      "False Negatives: 11900\n",
      "True Positives: 137820\n",
      "False Positives: 193\n"
     ]
    }
   ],
   "source": [
    "cm = confusion_matrix(y_test, y_pred)\n",
    "print(\"True Negatives:\", cm[0][0])\n",
    "print(\"False Negatives:\", cm[1][0])\n",
    "print(\"True Positives:\", cm[1][1])\n",
    "print(\"False Positives:\", cm[0][1])"
   ]
  },
  {
   "cell_type": "markdown",
   "metadata": {},
   "source": [
    "#### There seems to be no overfitting since train and test scores seem to be the similar."
   ]
  },
  {
   "cell_type": "markdown",
   "metadata": {},
   "source": [
    "#### 9. Look at feature importances"
   ]
  },
  {
   "cell_type": "code",
   "execution_count": 88,
   "metadata": {},
   "outputs": [
    {
     "data": {
      "image/png": "[encoded data removed]",
      "text/plain": [
       "<Figure size 432x288 with 1 Axes>"
      ]
     },
     "metadata": {},
     "output_type": "display_data"
    }
   ],
   "source": [
    "n_features =  X_train.shape[1]\n",
    "coefs_lr = grid_lr.best_estimator_.named_steps[\"logisticregression\"].coef_[0]\n",
    "plt.barh(range(n_features), coefs_lr, align='center') \n",
    "plt.yticks(np.arange(n_features), list(X_train.columns.values)) \n",
    "plt.xlabel(\"Feature importance\")\n",
    "plt.ylabel(\"Feature\")\n",
    "plt.ylim(-1, n_features)\n",
    "plt.show()"
   ]
  },
  {
   "cell_type": "markdown",
   "metadata": {},
   "source": [
    "#### 10. Put everything in a Pipeline (To prevent any kind of data leakage)"
   ]
  },
  {
   "cell_type": "code",
   "execution_count": 89,
   "metadata": {},
   "outputs": [],
   "source": [
    "# Scale Numeric Features\n",
    "    \n",
    "numeric_features = list(X.select_dtypes(include = [\"float64\"]))\n",
    "numeric_transformer = Pipeline(steps=[\n",
    "    ('scaler', StandardScaler())])"
   ]
  },
  {
   "cell_type": "code",
   "execution_count": 90,
   "metadata": {},
   "outputs": [],
   "source": [
    "# OneHotEncode Categorical Features\n",
    "\n",
    "categorical_features = list(X.select_dtypes(exclude = [\"float64\"]))\n",
    "categorical_transformer = Pipeline(steps=[\n",
    "    ('onehot', OneHotEncoder(handle_unknown='ignore'))])"
   ]
  },
  {
   "cell_type": "code",
   "execution_count": 91,
   "metadata": {},
   "outputs": [],
   "source": [
    "# Add in preprocessor\n",
    "preprocessor = ColumnTransformer(\n",
    "    transformers=[\n",
    "        ('num', numeric_transformer, numeric_features),\n",
    "        ('cat', categorical_transformer, categorical_features)])"
   ]
  },
  {
   "cell_type": "code",
   "execution_count": 92,
   "metadata": {},
   "outputs": [],
   "source": [
    "X_train, X_test, y_train, y_test = train_test_split(X, y, test_size = 0.33)"
   ]
  },
  {
   "cell_type": "code",
   "execution_count": 93,
   "metadata": {},
   "outputs": [],
   "source": [
    "# Define steps in Pipe\n",
    "pipe = Pipeline(steps=[('preprocessor', preprocessor),\n",
    "                      ('classifier', LogisticRegression(penalty = 'l2',\n",
    "                                                        C = best_param,\n",
    "                                                        class_weight = 'balanced', \n",
    "                                                        solver = 'sag', \n",
    "                                                        max_iter = 100, \n",
    "                                                        random_state = 4896))]) # solver='lbfgs'"
   ]
  },
  {
   "cell_type": "markdown",
   "metadata": {},
   "source": [
    "#### Tune Parameters"
   ]
  },
  {
   "cell_type": "code",
   "execution_count": 98,
   "metadata": {},
   "outputs": [
    {
     "name": "stderr",
     "output_type": "stream",
     "text": [
      "/Users/pranjalbajaj/anaconda3/lib/python3.7/site-packages/sklearn/linear_model/sag.py:334: ConvergenceWarning: The max_iter was reached which means the coef_ did not converge\n",
      "  \"the coef_ did not converge\", ConvergenceWarning)\n",
      "/Users/pranjalbajaj/anaconda3/lib/python3.7/site-packages/sklearn/linear_model/sag.py:334: ConvergenceWarning: The max_iter was reached which means the coef_ did not converge\n",
      "  \"the coef_ did not converge\", ConvergenceWarning)\n",
      "/Users/pranjalbajaj/anaconda3/lib/python3.7/site-packages/sklearn/linear_model/sag.py:334: ConvergenceWarning: The max_iter was reached which means the coef_ did not converge\n",
      "  \"the coef_ did not converge\", ConvergenceWarning)\n",
      "/Users/pranjalbajaj/anaconda3/lib/python3.7/site-packages/sklearn/linear_model/sag.py:334: ConvergenceWarning: The max_iter was reached which means the coef_ did not converge\n",
      "  \"the coef_ did not converge\", ConvergenceWarning)\n",
      "/Users/pranjalbajaj/anaconda3/lib/python3.7/site-packages/sklearn/linear_model/sag.py:334: ConvergenceWarning: The max_iter was reached which means the coef_ did not converge\n",
      "  \"the coef_ did not converge\", ConvergenceWarning)\n",
      "/Users/pranjalbajaj/anaconda3/lib/python3.7/site-packages/sklearn/linear_model/sag.py:334: ConvergenceWarning: The max_iter was reached which means the coef_ did not converge\n",
      "  \"the coef_ did not converge\", ConvergenceWarning)\n",
      "/Users/pranjalbajaj/anaconda3/lib/python3.7/site-packages/sklearn/linear_model/sag.py:334: ConvergenceWarning: The max_iter was reached which means the coef_ did not converge\n",
      "  \"the coef_ did not converge\", ConvergenceWarning)\n",
      "/Users/pranjalbajaj/anaconda3/lib/python3.7/site-packages/sklearn/linear_model/sag.py:334: ConvergenceWarning: The max_iter was reached which means the coef_ did not converge\n",
      "  \"the coef_ did not converge\", ConvergenceWarning)\n",
      "/Users/pranjalbajaj/anaconda3/lib/python3.7/site-packages/sklearn/linear_model/sag.py:334: ConvergenceWarning: The max_iter was reached which means the coef_ did not converge\n",
      "  \"the coef_ did not converge\", ConvergenceWarning)\n",
      "/Users/pranjalbajaj/anaconda3/lib/python3.7/site-packages/sklearn/linear_model/sag.py:334: ConvergenceWarning: The max_iter was reached which means the coef_ did not converge\n",
      "  \"the coef_ did not converge\", ConvergenceWarning)\n",
      "/Users/pranjalbajaj/anaconda3/lib/python3.7/site-packages/sklearn/linear_model/sag.py:334: ConvergenceWarning: The max_iter was reached which means the coef_ did not converge\n",
      "  \"the coef_ did not converge\", ConvergenceWarning)\n",
      "/Users/pranjalbajaj/anaconda3/lib/python3.7/site-packages/sklearn/linear_model/sag.py:334: ConvergenceWarning: The max_iter was reached which means the coef_ did not converge\n",
      "  \"the coef_ did not converge\", ConvergenceWarning)\n",
      "/Users/pranjalbajaj/anaconda3/lib/python3.7/site-packages/sklearn/linear_model/sag.py:334: ConvergenceWarning: The max_iter was reached which means the coef_ did not converge\n",
      "  \"the coef_ did not converge\", ConvergenceWarning)\n",
      "/Users/pranjalbajaj/anaconda3/lib/python3.7/site-packages/sklearn/linear_model/sag.py:334: ConvergenceWarning: The max_iter was reached which means the coef_ did not converge\n",
      "  \"the coef_ did not converge\", ConvergenceWarning)\n",
      "/Users/pranjalbajaj/anaconda3/lib/python3.7/site-packages/sklearn/linear_model/sag.py:334: ConvergenceWarning: The max_iter was reached which means the coef_ did not converge\n",
      "  \"the coef_ did not converge\", ConvergenceWarning)\n",
      "/Users/pranjalbajaj/anaconda3/lib/python3.7/site-packages/sklearn/linear_model/sag.py:334: ConvergenceWarning: The max_iter was reached which means the coef_ did not converge\n",
      "  \"the coef_ did not converge\", ConvergenceWarning)\n",
      "/Users/pranjalbajaj/anaconda3/lib/python3.7/site-packages/sklearn/linear_model/sag.py:334: ConvergenceWarning: The max_iter was reached which means the coef_ did not converge\n",
      "  \"the coef_ did not converge\", ConvergenceWarning)\n",
      "/Users/pranjalbajaj/anaconda3/lib/python3.7/site-packages/sklearn/linear_model/sag.py:334: ConvergenceWarning: The max_iter was reached which means the coef_ did not converge\n",
      "  \"the coef_ did not converge\", ConvergenceWarning)\n",
      "/Users/pranjalbajaj/anaconda3/lib/python3.7/site-packages/sklearn/linear_model/sag.py:334: ConvergenceWarning: The max_iter was reached which means the coef_ did not converge\n",
      "  \"the coef_ did not converge\", ConvergenceWarning)\n",
      "/Users/pranjalbajaj/anaconda3/lib/python3.7/site-packages/sklearn/linear_model/sag.py:334: ConvergenceWarning: The max_iter was reached which means the coef_ did not converge\n",
      "  \"the coef_ did not converge\", ConvergenceWarning)\n",
      "/Users/pranjalbajaj/anaconda3/lib/python3.7/site-packages/sklearn/linear_model/sag.py:334: ConvergenceWarning: The max_iter was reached which means the coef_ did not converge\n",
      "  \"the coef_ did not converge\", ConvergenceWarning)\n",
      "/Users/pranjalbajaj/anaconda3/lib/python3.7/site-packages/sklearn/linear_model/sag.py:334: ConvergenceWarning: The max_iter was reached which means the coef_ did not converge\n",
      "  \"the coef_ did not converge\", ConvergenceWarning)\n",
      "/Users/pranjalbajaj/anaconda3/lib/python3.7/site-packages/sklearn/linear_model/sag.py:334: ConvergenceWarning: The max_iter was reached which means the coef_ did not converge\n",
      "  \"the coef_ did not converge\", ConvergenceWarning)\n",
      "/Users/pranjalbajaj/anaconda3/lib/python3.7/site-packages/sklearn/linear_model/sag.py:334: ConvergenceWarning: The max_iter was reached which means the coef_ did not converge\n",
      "  \"the coef_ did not converge\", ConvergenceWarning)\n",
      "/Users/pranjalbajaj/anaconda3/lib/python3.7/site-packages/sklearn/linear_model/sag.py:334: ConvergenceWarning: The max_iter was reached which means the coef_ did not converge\n",
      "  \"the coef_ did not converge\", ConvergenceWarning)\n",
      "/Users/pranjalbajaj/anaconda3/lib/python3.7/site-packages/sklearn/linear_model/sag.py:334: ConvergenceWarning: The max_iter was reached which means the coef_ did not converge\n",
      "  \"the coef_ did not converge\", ConvergenceWarning)\n"
     ]
    },
    {
     "data": {
      "text/plain": [
       "GridSearchCV(cv=StratifiedShuffleSplit(n_splits=5, random_state=4896, test_size='default',\n",
       "            train_size=None),\n",
       "       error_score='raise-deprecating',\n",
       "       estimator=Pipeline(memory=None,\n",
       "     steps=[('preprocessor', ColumnTransformer(n_jobs=None, remainder='drop', sparse_threshold=0.3,\n",
       "         transformer_weights=None,\n",
       "         transformers=[('num', Pipeline(memory=None,\n",
       "     steps=[('scaler', StandardScaler(copy=True, with_mean=True, with_std=True))]), ['loan_amnt', 'funded_amnt', 'int... penalty='l2', random_state=4896,\n",
       "          solver='sag', tol=0.0001, verbose=0, warm_start=False))]),\n",
       "       fit_params=None, iid='warn', n_jobs=None,\n",
       "       param_grid={'classifier__C': array([0.001  , 0.00562, 0.03162, 0.17783, 1.     ])},\n",
       "       pre_dispatch='2*n_jobs', refit=True, return_train_score='warn',\n",
       "       scoring=None, verbose=0)"
      ]
     },
     "execution_count": 98,
     "metadata": {},
     "output_type": "execute_result"
    }
   ],
   "source": [
    "param_grid = {\n",
    "    'classifier__C': np.logspace(-3, 0, 5)\n",
    "}\n",
    "\n",
    "grid_search = GridSearchCV(pipe, param_grid, cv = cv)\n",
    "grid_search.fit(X_train, y_train)"
   ]
  },
  {
   "cell_type": "code",
   "execution_count": 117,
   "metadata": {},
   "outputs": [],
   "source": [
    "y_pred = pipe.predict(X_test)"
   ]
  },
  {
   "cell_type": "code",
   "execution_count": 118,
   "metadata": {},
   "outputs": [
    {
     "name": "stdout",
     "output_type": "stream",
     "text": [
      "Score on Test set\n",
      "Accuracy score: 0.94\n",
      "F1 score: 0.96\n",
      "ROC AUC score: 0.96\n"
     ]
    }
   ],
   "source": [
    "# Evaluate model performance over these three metrics\n",
    "print(\"Score on Test set\")\n",
    "print(\"Accuracy score: {:.2f}\".format(accuracy_score(y_test, y_pred)))\n",
    "print(\"F1 score: {:.2f}\".format(f1_score(y_test, y_pred)))\n",
    "print(\"ROC AUC score: {:.2f}\".format(roc_auc_score(y_test, y_pred)))"
   ]
  },
  {
   "cell_type": "code",
   "execution_count": 119,
   "metadata": {},
   "outputs": [
    {
     "name": "stdout",
     "output_type": "stream",
     "text": [
      "True Negatives: 54957\n",
      "False Negatives: 11808\n",
      "True Positives: 138004\n",
      "False Positives: 201\n"
     ]
    }
   ],
   "source": [
    "cm = confusion_matrix(y_test, y_pred)\n",
    "print(\"True Negatives:\", cm[0][0])\n",
    "print(\"False Negatives:\", cm[1][0])\n",
    "print(\"True Positives:\", cm[1][1])\n",
    "print(\"False Positives:\", cm[0][1])"
   ]
  },
  {
   "cell_type": "markdown",
   "metadata": {},
   "source": [
    "#### Feature Importances"
   ]
  },
  {
   "cell_type": "code",
   "execution_count": 110,
   "metadata": {},
   "outputs": [
    {
     "data": {
      "image/png": "[encoded data removed]",
      "text/plain": [
       "<Figure size 432x288 with 1 Axes>"
      ]
     },
     "metadata": {},
     "output_type": "display_data"
    }
   ],
   "source": [
    "n_features =  X_train_scaled.shape[1]\n",
    "coefs_lr = grid_search.best_estimator_.named_steps['classifier'].coef_[0]\n",
    "plt.barh(range(n_features), coefs_lr, align='center') \n",
    "plt.yticks(np.arange(n_features), list(X_train_scaled)) \n",
    "plt.xlabel(\"Feature importance\")\n",
    "plt.ylabel(\"Feature\")\n",
    "plt.ylim(-1, n_features)\n",
    "plt.show()"
   ]
  },
  {
   "cell_type": "markdown",
   "metadata": {},
   "source": [
    "### Was the model effective? Explain how you validated your model and describe how you measure the performance of the model."
   ]
  },
  {
   "cell_type": "markdown",
   "metadata": {},
   "source": [
    "#### Metrics\n",
    "For this study, I chose two metrics to optimize performance:\n",
    "* AUC \n",
    "* F1 Score: 2 * (precision * recall) / (precision + recall)\n",
    "\n",
    "Both of these metrics are fairly robust to class imbalance and capture our need to minimize:\n",
    "- False Negatives\n",
    "- False Positives\n",
    "\n",
    "Since both these scenarios can be costly to an investor and should be minimized."
   ]
  },
  {
   "cell_type": "markdown",
   "metadata": {},
   "source": [
    "#### Model Performance\n",
    "- The final scores on the test set were:\n",
    "\n",
    "##### Metrics\n",
    "* Score on Test set\n",
    "* Accuracy score: 0.94\n",
    "* F1 score: 0.96\n",
    "* ROC AUC score: 0.96\n",
    "\n",
    "##### Confusion Matrix Results\n",
    "* True Negatives: 54957\n",
    "* False Negatives: 11808\n",
    "* True Positives: 138004\n",
    "* False Positives: 201\n",
    "\n",
    "\n",
    "#### After the pipeline, final scores on the test set were:\n",
    "\n",
    "Overall, the model performs well according to these metrics; however, to truly gauge the performance of a model, it must be compared to a dummy classifier or a random baseline. See results below."
   ]
  },
  {
   "cell_type": "code",
   "execution_count": 111,
   "metadata": {},
   "outputs": [],
   "source": [
    "from sklearn.dummy import DummyClassifier"
   ]
  },
  {
   "cell_type": "code",
   "execution_count": 112,
   "metadata": {},
   "outputs": [
    {
     "name": "stdout",
     "output_type": "stream",
     "text": [
      "Score on Test set\n",
      "Accuracy score: 0.61\n",
      "F1 score: 0.73\n",
      "ROC AUC score: 0.50\n",
      "Confusion Matrix Metrics\n",
      "True Negatives: 14815\n",
      "False Negatives: 40346\n",
      "True Positives: 109466\n",
      "False Positives: 40343\n"
     ]
    }
   ],
   "source": [
    "dummy = DummyClassifier(strategy='stratified', random_state=None, constant=None)\n",
    "dummy.fit(X_train_scaled, y_train)\n",
    "y_pred = dummy.predict(X_test_scaled)\n",
    "\n",
    "# Evaluate model performance over these three metrics\n",
    "print(\"Score on Test set\")\n",
    "print(\"Accuracy score: {:.2f}\".format(accuracy_score(y_test, y_pred)))\n",
    "print(\"F1 score: {:.2f}\".format(f1_score(y_test, y_pred)))\n",
    "print(\"ROC AUC score: {:.2f}\".format(roc_auc_score(y_test, y_pred)))\n",
    "\n",
    "print(\"Confusion Matrix Metrics\")\n",
    "cm = confusion_matrix(y_test, y_pred)\n",
    "print(\"True Negatives:\", cm[0][0])\n",
    "print(\"False Negatives:\", cm[1][0])\n",
    "print(\"True Positives:\", cm[1][1])\n",
    "print(\"False Positives:\", cm[0][1])"
   ]
  },
  {
   "cell_type": "code",
   "execution_count": 120,
   "metadata": {},
   "outputs": [
    {
     "name": "stdout",
     "output_type": "stream",
     "text": [
      "F1 score improvement: 31.51%\n",
      "AUC improvement: 92.00%\n"
     ]
    }
   ],
   "source": [
    "print(\"F1 score improvement: {:.2f}%\".format((0.96 - 0.73)*100 / 0.73))\n",
    "print(\"AUC improvement: {:.2f}%\".format((0.96 - 0.5)*100 / 0.5) )"
   ]
  },
  {
   "cell_type": "markdown",
   "metadata": {},
   "source": [
    "Compared to this dummy classifier, we seem to be doing much better in terms of both F1 Score and AUC score. I do have reason to believe that the model was effective."
   ]
  },
  {
   "cell_type": "markdown",
   "metadata": {},
   "source": [
    "#### Note on Feature Importances:\n",
    "* It is key in an evaluation to draw upon feature importances and we find consitently that:\n",
    "    - Total Payment, Funded Amount and Loan Amount in this order are the most important features \n",
    "    - This makes complete sense since our EDA discussed revealed that these features were the most informative!"
   ]
  },
  {
   "cell_type": "markdown",
   "metadata": {},
   "source": [
    "#### Note:\n",
    "* I made sure to make predicitons on the Test Set ONLY once i.e. after the model tuning stage.\n",
    "\n",
    "* I created a new test and train split during the pipeline stage, which I used to generate another set of predicitons on the test set once after all parameters were trained. This was done to ensure that the pipeline works."
   ]
  },
  {
   "cell_type": "markdown",
   "metadata": {},
   "source": [
    "#### Further comments"
   ]
  },
  {
   "cell_type": "markdown",
   "metadata": {},
   "source": [
    "Given the context of this data, using an IID split will mean that we're using future values to present the past values which doesn't seem to make much sense in the real workd. Further, effective EDA should involve looking at the temporal component of the data as well as below."
   ]
  },
  {
   "cell_type": "code",
   "execution_count": 115,
   "metadata": {},
   "outputs": [],
   "source": [
    "cohorts.reset_index(inplace = True)"
   ]
  },
  {
   "cell_type": "code",
   "execution_count": 116,
   "metadata": {},
   "outputs": [
    {
     "data": {
      "image/png": "[encoded data removed]",
      "text/plain": [
       "<Figure size 432x288 with 1 Axes>"
      ]
     },
     "metadata": {},
     "output_type": "display_data"
    }
   ],
   "source": [
    "plt.suptitle('Time Series of % Loans Defaulted', fontsize = 14)\n",
    "plt.xlabel('Year', fontsize = 12)\n",
    "plt.ylabel('% of Default', fontsize = 12)\n",
    "plt.plot(cohorts['issue_d'], cohorts['perc_default'])\n",
    "plt.show()"
   ]
  },
  {
   "cell_type": "markdown",
   "metadata": {},
   "source": [
    "There clearly is a temporal trend in the data which makes it very difficult to assume that observations are IID.\n",
    "* The recession period from 2007-9 clearly shows very high default deates, with rates slipping as they go down to 2012\n",
    "* The reates begin to rise again after 2012 in a strange pattern"
   ]
  },
  {
   "cell_type": "markdown",
   "metadata": {},
   "source": [
    "#### Next steps and improved modelling approaches:\n",
    "* The approach should follow using, say 2007-2012 data for the train set and 2013-15 as the test set.\n",
    "* To tune model parameters, it may be possible to use *TimeSeriesSplit* offered by sklearn\n",
    "\n",
    "* Given that there were only 4 missing values, we wouldn't have gained much imputing them; however, if there were more missing values then using packages such as *fancyimpute* may make sense which impute continous data by imputing values that of similar rows\n",
    "* Tree-based models such as Random Forest or XG Boost are often good performers, not prone to overfitting and equally interpretable as Logistic Regression thanks to **shap values** which allow for interpretibility of these complex models"
   ]
  }
 ],
 "metadata": {
  "kernelspec": {
   "display_name": "Python 3",
   "language": "python",
   "name": "python3"
  },
  "language_info": {
   "codemirror_mode": {
    "name": "ipython",
    "version": 3
   },
   "file_extension": ".py",
   "mimetype": "text/x-python",
   "name": "python",
   "nbconvert_exporter": "python",
   "pygments_lexer": "ipython3",
   "version": "3.7.1"
  }
 },
 "nbformat": 4,
 "nbformat_minor": 2
}
